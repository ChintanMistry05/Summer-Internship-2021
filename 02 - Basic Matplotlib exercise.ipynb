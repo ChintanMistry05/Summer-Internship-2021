{
 "cells": [
  {
   "cell_type": "markdown",
   "metadata": {
    "id": "_WiI_pKg4sSQ"
   },
   "source": [
    "___\n",
    "\n",
    "<a href='http://www.pieriandata.com'> <img src='../Pierian_Data_Logo.png' /></a>\n",
    "___\n",
    "# Matplotlib Exercises - Solutions\n",
    "\n",
    "Welcome to the exercises for reviewing matplotlib! Take your time with these, Matplotlib can be tricky to understand at first. These are relatively simple plots, but they can be hard if this is your first time with matplotlib, feel free to reference the solutions as you go along.\n",
    "\n",
    "Also don't worry if you find the matplotlib syntax frustrating, we actually won't be using it that often throughout the course, we will switch to using seaborn and pandas built-in visualization capabilities. But, those are built-off of matplotlib, which is why it is still important to get exposure to it!\n",
    "\n",
    "** * NOTE: ALL THE COMMANDS FOR PLOTTING A FIGURE SHOULD ALL GO IN THE SAME CELL. SEPARATING THEM OUT INTO MULTIPLE CELLS MAY CAUSE NOTHING TO SHOW UP. * **\n",
    "\n",
    "# Exercises\n",
    "\n",
    "Follow the instructions to recreate the plots using this data:\n",
    "\n",
    "## Data"
   ]
  },
  {
   "cell_type": "code",
   "execution_count": 1,
   "metadata": {
    "executionInfo": {
     "elapsed": 1717,
     "status": "ok",
     "timestamp": 1604404936543,
     "user": {
      "displayName": "Vishvajeet Ramanuj",
      "photoUrl": "",
      "userId": "10178749487346214877"
     },
     "user_tz": -330
    },
    "id": "XBJOK8lA4sSR"
   },
   "outputs": [],
   "source": [
    "import numpy as np\n",
    "x = np.arange(0,100)\n",
    "y = x*2\n",
    "z = x**2"
   ]
  },
  {
   "cell_type": "markdown",
   "metadata": {
    "id": "XeJLd3of4sSX"
   },
   "source": [
    "** Import matplotlib.pyplot as plt and set %matplotlib inline if you are using the jupyter notebook. What command do you use if you aren't using the jupyter notebook?**"
   ]
  },
  {
   "cell_type": "code",
   "execution_count": 2,
   "metadata": {
    "executionInfo": {
     "elapsed": 1710,
     "status": "ok",
     "timestamp": 1604404936546,
     "user": {
      "displayName": "Vishvajeet Ramanuj",
      "photoUrl": "",
      "userId": "10178749487346214877"
     },
     "user_tz": -330
    },
    "id": "Fz6XLsxa4sSX"
   },
   "outputs": [],
   "source": [
    "import matplotlib.pyplot as plt\n",
    "%matplotlib inline\n",
    "# plt.show() for non-notebook users"
   ]
  },
  {
   "cell_type": "markdown",
   "metadata": {
    "id": "RoK-6yGK4sSc"
   },
   "source": [
    "## Exercise 1\n",
    "\n",
    "** Follow along with these steps: **\n",
    "* ** Create a figure object called fig using plt.figure() **\n",
    "* ** Use add_axes to add an axis to the figure canvas at [0,0,1,1]. Call this new axis ax. **\n",
    "* ** Plot (x,y) on that axes and set the labels and titles to match the plot below:**"
   ]
  },
  {
   "cell_type": "code",
   "execution_count": null,
   "metadata": {
    "colab": {
     "base_uri": "https://localhost:8080/",
     "height": 383
    },
    "executionInfo": {
     "elapsed": 2437,
     "status": "ok",
     "timestamp": 1604404937285,
     "user": {
      "displayName": "Vishvajeet Ramanuj",
      "photoUrl": "",
      "userId": "10178749487346214877"
     },
     "user_tz": -330
    },
    "id": "PrDbh9eq4sSc",
    "outputId": "b7f1dfe9-f7dd-4812-dfa4-cd8e3d57daf4"
   },
   "outputs": [],
   "source": []
  },
  {
   "cell_type": "markdown",
   "metadata": {
    "id": "wrL1knK84sSi"
   },
   "source": [
    "## Exercise 2\n",
    "** Create a figure object and put two axes on it, ax1 and ax2. Located at [0,0,1,1] and [0.2,0.5,.2,.2] respectively.**"
   ]
  },
  {
   "cell_type": "code",
   "execution_count": null,
   "metadata": {
    "colab": {
     "base_uri": "https://localhost:8080/",
     "height": 340
    },
    "executionInfo": {
     "elapsed": 2428,
     "status": "ok",
     "timestamp": 1604404937287,
     "user": {
      "displayName": "Vishvajeet Ramanuj",
      "photoUrl": "",
      "userId": "10178749487346214877"
     },
     "user_tz": -330
    },
    "id": "yStvchHj4sSj",
    "outputId": "e97b7ecb-c5d9-418b-cf4c-0d1ec6aabcff"
   },
   "outputs": [],
   "source": []
  },
  {
   "cell_type": "markdown",
   "metadata": {
    "id": "TtniwrMK4sSn"
   },
   "source": [
    "** Now plot (x,y) on both axes. And call your figure object to show it.**"
   ]
  },
  {
   "cell_type": "code",
   "execution_count": null,
   "metadata": {
    "colab": {
     "base_uri": "https://localhost:8080/",
     "height": 350
    },
    "executionInfo": {
     "elapsed": 2416,
     "status": "ok",
     "timestamp": 1604404937289,
     "user": {
      "displayName": "Vishvajeet Ramanuj",
      "photoUrl": "",
      "userId": "10178749487346214877"
     },
     "user_tz": -330
    },
    "id": "aguYp6064sSn",
    "outputId": "6deabc9e-5daf-45e8-fc07-a05a3ef3fa71"
   },
   "outputs": [],
   "source": []
  },
  {
   "cell_type": "markdown",
   "metadata": {
    "id": "xzY1NfwH4sSr"
   },
   "source": [
    "## Exercise 3\n",
    "\n",
    "** Create the plot below by adding two axes to a figure object at [0,0,1,1] and [0.2,0.5,.4,.4]**"
   ]
  },
  {
   "cell_type": "code",
   "execution_count": null,
   "metadata": {
    "colab": {
     "base_uri": "https://localhost:8080/",
     "height": 340
    },
    "executionInfo": {
     "elapsed": 3174,
     "status": "ok",
     "timestamp": 1604404938059,
     "user": {
      "displayName": "Vishvajeet Ramanuj",
      "photoUrl": "",
      "userId": "10178749487346214877"
     },
     "user_tz": -330
    },
    "id": "oU7PopcG4sSs",
    "outputId": "dedc7d38-adde-42f9-937a-d9872a3c8a52"
   },
   "outputs": [],
   "source": []
  },
  {
   "cell_type": "markdown",
   "metadata": {
    "id": "QTv0c_454sSx"
   },
   "source": [
    "** Now use x,y, and z arrays to recreate the plot below. Notice the xlimits and y limits on the inserted plot:**"
   ]
  },
  {
   "cell_type": "code",
   "execution_count": null,
   "metadata": {
    "colab": {
     "base_uri": "https://localhost:8080/",
     "height": 350
    },
    "executionInfo": {
     "elapsed": 3163,
     "status": "ok",
     "timestamp": 1604404938061,
     "user": {
      "displayName": "Vishvajeet Ramanuj",
      "photoUrl": "",
      "userId": "10178749487346214877"
     },
     "user_tz": -330
    },
    "id": "1BCDpm9N4sSz",
    "outputId": "6345b13f-7c88-4cd3-cf7d-5ad29fc24ec4"
   },
   "outputs": [],
   "source": []
  },
  {
   "cell_type": "markdown",
   "metadata": {
    "id": "mBLcOKTJ4sS2"
   },
   "source": [
    "## Exercise 4\n",
    "\n",
    "** Use plt.subplots(nrows=1, ncols=2) to create the plot below.**"
   ]
  },
  {
   "cell_type": "code",
   "execution_count": null,
   "metadata": {
    "colab": {
     "base_uri": "https://localhost:8080/",
     "height": 269
    },
    "executionInfo": {
     "elapsed": 3905,
     "status": "ok",
     "timestamp": 1604404938813,
     "user": {
      "displayName": "Vishvajeet Ramanuj",
      "photoUrl": "",
      "userId": "10178749487346214877"
     },
     "user_tz": -330
    },
    "id": "Ya3JkXLY4sS3",
    "outputId": "b48e1a73-b605-4b6f-9fef-c4f72c198560"
   },
   "outputs": [],
   "source": []
  },
  {
   "cell_type": "markdown",
   "metadata": {
    "id": "cs6JXCsi4sS6"
   },
   "source": [
    "** Now plot (x,y) and (x,z) on the axes. Play around with the linewidth and style**"
   ]
  },
  {
   "cell_type": "code",
   "execution_count": null,
   "metadata": {
    "colab": {
     "base_uri": "https://localhost:8080/",
     "height": 265
    },
    "executionInfo": {
     "elapsed": 3893,
     "status": "ok",
     "timestamp": 1604404938814,
     "user": {
      "displayName": "Vishvajeet Ramanuj",
      "photoUrl": "",
      "userId": "10178749487346214877"
     },
     "user_tz": -330
    },
    "id": "A70tyOCt4sS7",
    "outputId": "bea18c98-fcb8-4b7d-899e-91bfc18cac0e"
   },
   "outputs": [],
   "source": []
  },
  {
   "cell_type": "markdown",
   "metadata": {
    "id": "CMo59q5c4sTA"
   },
   "source": [
    "** See if you can resize the plot by adding the figsize() argument in plt.subplots() are copying and pasting your previous code.**"
   ]
  },
  {
   "cell_type": "code",
   "execution_count": null,
   "metadata": {
    "colab": {
     "base_uri": "https://localhost:8080/",
     "height": 189
    },
    "executionInfo": {
     "elapsed": 3883,
     "status": "ok",
     "timestamp": 1604404938816,
     "user": {
      "displayName": "Vishvajeet Ramanuj",
      "photoUrl": "",
      "userId": "10178749487346214877"
     },
     "user_tz": -330
    },
    "id": "xYiGf7u44sTB",
    "outputId": "d12d7d9b-2462-450a-f23a-80ef918d39ee"
   },
   "outputs": [],
   "source": []
  },
  {
   "cell_type": "markdown",
   "metadata": {
    "id": "eIHxA1hq_kVn"
   },
   "source": [
    "## Exercise 5\n",
    "\n",
    "** Plot xy and xz in similiar axis **"
   ]
  },
  {
   "cell_type": "code",
   "execution_count": null,
   "metadata": {
    "colab": {
     "base_uri": "https://localhost:8080/",
     "height": 357
    },
    "executionInfo": {
     "elapsed": 1451,
     "status": "ok",
     "timestamp": 1604405017082,
     "user": {
      "displayName": "Vishvajeet Ramanuj",
      "photoUrl": "",
      "userId": "10178749487346214877"
     },
     "user_tz": -330
    },
    "id": "WzzpVEE6-dTZ",
    "outputId": "ba8b8722-b880-4783-e4b1-4fd9ec5e5278"
   },
   "outputs": [],
   "source": []
  },
  {
   "cell_type": "markdown",
   "metadata": {},
   "source": [
    "## Exercise 6\n",
    "Try to plot below figure"
   ]
  },
  {
   "cell_type": "code",
   "execution_count": 3,
   "metadata": {},
   "outputs": [],
   "source": [
    "x = np.linspace(0, 10, 100)\n",
    "y1, y2, y3 = np.cos(x), np.cos(x + 1), np.cos(x + 2)\n",
    "names = ['Signal 1', 'Signal 2', 'Signal 3']"
   ]
  },
  {
   "cell_type": "code",
   "execution_count": 4,
   "metadata": {},
   "outputs": [],
   "source": [
    "# To-do\n"
   ]
  },
  {
   "cell_type": "markdown",
   "metadata": {},
   "source": [
    "## Exercise 7\n",
    "Try to plot below figure"
   ]
  },
  {
   "cell_type": "code",
   "execution_count": 5,
   "metadata": {},
   "outputs": [],
   "source": [
    "# plot graph with diffrent colors\n",
    "t = np.arange(0.0, 5.0, 0.2)\n",
    "\n",
    "# try to plot below graph which is ploting below functions\n",
    "# x, x**2 and x **3\n"
   ]
  },
  {
   "cell_type": "code",
   "execution_count": 6,
   "metadata": {},
   "outputs": [],
   "source": [
    "# todo\n"
   ]
  },
  {
   "cell_type": "markdown",
   "metadata": {},
   "source": [
    "## Exercise 7\n",
    "Try to plot below figure"
   ]
  },
  {
   "cell_type": "code",
   "execution_count": 7,
   "metadata": {},
   "outputs": [],
   "source": [
    "# ploting with diffrent markers\n",
    "t = np.arange(0.0, 5.0, 0.2)\n"
   ]
  },
  {
   "cell_type": "code",
   "execution_count": 8,
   "metadata": {},
   "outputs": [],
   "source": [
    "# todo\n"
   ]
  },
  {
   "cell_type": "markdown",
   "metadata": {},
   "source": [
    "## Exercise 8\n",
    "Try to plot below figure"
   ]
  },
  {
   "cell_type": "code",
   "execution_count": 9,
   "metadata": {},
   "outputs": [],
   "source": [
    "# ploting with diffent style and marker\n",
    "t = np.arange(0.0, 5.0, 0.1)\n",
    "a = np.exp(-t) * np.cos(2*np.pi*t)"
   ]
  },
  {
   "cell_type": "code",
   "execution_count": 10,
   "metadata": {},
   "outputs": [],
   "source": [
    "# todo\n"
   ]
  },
  {
   "cell_type": "markdown",
   "metadata": {},
   "source": [
    "## Exercise 9\n",
    "Try to plot below figure"
   ]
  },
  {
   "cell_type": "code",
   "execution_count": 11,
   "metadata": {},
   "outputs": [],
   "source": [
    "# stylish arrow\n",
    "t = np.arange(0.0, 5.0, 0.01)\n",
    "s = np.cos(2*np.pi*t)\n",
    "\n",
    "# # hint\n",
    "# - use plt.annotate function for ploting fancier arrow"
   ]
  },
  {
   "cell_type": "code",
   "execution_count": 12,
   "metadata": {},
   "outputs": [],
   "source": [
    "# to do\n"
   ]
  },
  {
   "cell_type": "markdown",
   "metadata": {},
   "source": [
    "## Exercise 10\n",
    "Try to plot below figure"
   ]
  },
  {
   "cell_type": "code",
   "execution_count": 13,
   "metadata": {},
   "outputs": [],
   "source": [
    "plt.style.use('classic')\n",
    "\n",
    "t = np.linspace(0, 2 * np.pi, 150)\n",
    "x1, y1 = np.cos(t), np.sin(t)\n",
    "x2, y2 = 2 * x1, 2 * y1\n",
    "\n",
    "colors = ['darkred', 'darkgreen']\n",
    "\n",
    "# # hint\n",
    "# - use axis.margins for adjusting margin space(ie. space between figure and it's border)                                         "
   ]
  },
  {
   "cell_type": "code",
   "execution_count": 14,
   "metadata": {},
   "outputs": [],
   "source": [
    "# todo\n"
   ]
  },
  {
   "cell_type": "markdown",
   "metadata": {},
   "source": [
    "## Exercise 11\n",
    "Try to plot below figure"
   ]
  },
  {
   "cell_type": "code",
   "execution_count": 15,
   "metadata": {},
   "outputs": [],
   "source": [
    "data = [('dogs', 4, 4), ('frogs', -3, 1), ('cats', 1, 5), ('goldfish', -2, 2)]\n",
    "animals, friendliness, popularity = zip(*data)\n",
    "\n",
    "# # hints:\n",
    "# use barchart\n",
    "# use axis.spines for border \n",
    "# use axix.xaxis.set_ticks_position for changing xlabel, ylabel orientation\n",
    "# use fig.subplots_adjust for adjusting space between subplots"
   ]
  },
  {
   "cell_type": "code",
   "execution_count": 16,
   "metadata": {},
   "outputs": [],
   "source": [
    "# todo\n"
   ]
  },
  {
   "cell_type": "markdown",
   "metadata": {},
   "source": [
    "# Great Job!"
   ]
  }
 ],
 "metadata": {
  "colab": {
   "collapsed_sections": [],
   "name": "03-Matplotlib Exercises - Solutions.ipynb",
   "provenance": []
  },
  "kernelspec": {
   "display_name": "Python 3",
   "language": "python",
   "name": "python3"
  },
  "language_info": {
   "codemirror_mode": {
    "name": "ipython",
    "version": 3
   },
   "file_extension": ".py",
   "mimetype": "text/x-python",
   "name": "python",
   "nbconvert_exporter": "python",
   "pygments_lexer": "ipython3",
   "version": "3.9.5"
  }
 },
 "nbformat": 4,
 "nbformat_minor": 1
}
