{
 "cells": [
  {
   "cell_type": "markdown",
   "metadata": {},
   "source": [
    "#### 1.\tCreate a  below list print 5th position value using Exception Handling.<br/>\n",
    "L1 = [1, 2, 3, 4]\n"
   ]
  },
  {
   "cell_type": "code",
   "execution_count": 1,
   "metadata": {},
   "outputs": [
    {
     "name": "stdout",
     "output_type": "stream",
     "text": [
      "Second element = 2\n",
      "An error occurred\n"
     ]
    }
   ],
   "source": [
    "# Python program to handle simple runtime error\n",
    "\n",
    "a = [1, 2, 3,4]\n",
    "try:\n",
    "    print (\"Second element = %d\" %(a[1]))\n",
    "    # Throws error since there are only 3 elements in array\n",
    "    print (\"Six element = %d\" %(a[5]))\n",
    "\n",
    "except IndexError:\n",
    "    print (\"An error occurred\")\n"
   ]
  },
  {
   "cell_type": "markdown",
   "metadata": {},
   "source": [
    "#### 2. Enter a file name from user and read data from that file  . If File Not Available that Print Error Message , and Data Read Sucessfully Print Messege using else ."
   ]
  },
  {
   "cell_type": "code",
   "execution_count": 9,
   "metadata": {},
   "outputs": [
    {
     "name": "stdout",
     "output_type": "stream",
     "text": [
      "Enter the File Name:demo\n",
      "File is Not Available\n"
     ]
    }
   ],
   "source": [
    "filename=input(\"Enter the File Name:\")\n",
    "try:\n",
    "    f1=open(filename,\"r\")\n",
    "    data=f1.read()\n",
    "    print(data)\n",
    "except FileNotFoundError:\n",
    "    print(\"File is Not Available\")\n",
    "else:\n",
    "    print(\"File data Read Sucessfully\")\n"
   ]
  },
  {
   "cell_type": "markdown",
   "metadata": {},
   "source": [
    "#### 3. Enter integer value . if user enter anything except of integer value that Generate Error Message. "
   ]
  },
  {
   "cell_type": "code",
   "execution_count": 11,
   "metadata": {},
   "outputs": [
    {
     "name": "stdout",
     "output_type": "stream",
     "text": [
      "Enter Numberw\n",
      "Accept Only Integer Value\n"
     ]
    }
   ],
   "source": [
    "try:\n",
    "    x=int(input(\"Enter Number\"))\n",
    "    print(x)\n",
    "except ValueError:\n",
    "    print(\"Accept Only Integer Value\")"
   ]
  },
  {
   "cell_type": "code",
   "execution_count": null,
   "metadata": {},
   "outputs": [],
   "source": []
  }
 ],
 "metadata": {
  "kernelspec": {
   "display_name": "Python 3",
   "language": "python",
   "name": "python3"
  },
  "language_info": {
   "codemirror_mode": {
    "name": "ipython",
    "version": 3
   },
   "file_extension": ".py",
   "mimetype": "text/x-python",
   "name": "python",
   "nbconvert_exporter": "python",
   "pygments_lexer": "ipython3",
   "version": "3.7.4"
  }
 },
 "nbformat": 4,
 "nbformat_minor": 2
}
