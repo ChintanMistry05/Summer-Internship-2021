{
 "cells": [
  {
   "cell_type": "markdown",
   "metadata": {},
   "source": [
    "### Tuple & List Program\n"
   ]
  },
  {
   "cell_type": "markdown",
   "metadata": {},
   "source": [
    "#### 1. Take two tuple of your choice and print if tuple is same or not using comparison function or doing manually"
   ]
  },
  {
   "cell_type": "code",
   "execution_count": 1,
   "metadata": {},
   "outputs": [
    {
     "name": "stdout",
     "output_type": "stream",
     "text": [
      "t2 is bigger then t1.\n"
     ]
    }
   ],
   "source": [
    "t1, t2 = (123, 'xyz'), (456, 'abc')\n",
    "\n",
    "if t1 > t2:\n",
    "    print(\"t1 is bigger then t2.\")\n",
    "elif t1 < t2 :\n",
    "    print (\"t2 is bigger then t1.\")\n",
    "else:\n",
    "    print(\"bith tuples are same.\")"
   ]
  },
  {
   "cell_type": "markdown",
   "metadata": {},
   "source": [
    "#### 2. Take a Tuple and list find minimum and maximum Values."
   ]
  },
  {
   "cell_type": "code",
   "execution_count": 2,
   "metadata": {},
   "outputs": [
    {
     "name": "stdout",
     "output_type": "stream",
     "text": [
      "max number of t1 is = 456\n",
      "min number of t1 is = 1\n"
     ]
    }
   ],
   "source": [
    "t1 = (12,45,23,56,1,2,5,4,7,456)\n",
    "\n",
    "print(\"max number of t1 is = %d\\nmin number of t1 is = %d\"%(max(t1),min(t1)))"
   ]
  },
  {
   "cell_type": "code",
   "execution_count": 3,
   "metadata": {},
   "outputs": [
    {
     "name": "stdout",
     "output_type": "stream",
     "text": [
      "max number of l1 is = 657\n",
      "min number of l1 is = 2\n"
     ]
    }
   ],
   "source": [
    "l1=[12,345,657,34,23,56,78,2]\n",
    "print(\"max number of l1 is = %d\\nmin number of l1 is = %d\"%(max(l1),min(l1)))"
   ]
  },
  {
   "cell_type": "markdown",
   "metadata": {},
   "source": [
    "#### 3.  Create program take a one tuple and list and convert Tuple into the list and list into the Tuple.\n"
   ]
  },
  {
   "cell_type": "code",
   "execution_count": 4,
   "metadata": {},
   "outputs": [
    {
     "name": "stdout",
     "output_type": "stream",
     "text": [
      "[1, 2, 3, 4, 5, 6, 2, 454, 12, 45, 78]\n",
      "(15, 48, 5, 2, 78, 45, 48, 5, 2, 21, 1)\n"
     ]
    }
   ],
   "source": [
    "t = (1,2,3,4,5,6,2,454,12,45,78)\n",
    "l = [15,48,5,2,78,45,48,5,2,21,1]\n",
    "\n",
    "print(list(t))\n",
    "print(tuple(l))"
   ]
  },
  {
   "cell_type": "markdown",
   "metadata": {},
   "source": [
    "#### 4. Create tuple and list find sum of value"
   ]
  },
  {
   "cell_type": "code",
   "execution_count": 5,
   "metadata": {},
   "outputs": [
    {
     "name": "stdout",
     "output_type": "stream",
     "text": [
      "sum of tuple t is: 612\n",
      "sum of list l is: 270\n"
     ]
    }
   ],
   "source": [
    "t = (1,2,3,4,5,6,2,454,12,45,78)\n",
    "l = [15,48,5,2,78,45,48,5,2,21,1]\n",
    "print(\"sum of tuple t is:\",sum(t))\n",
    "print(\"sum of list l is:\",sum(l))"
   ]
  },
  {
   "cell_type": "markdown",
   "metadata": {},
   "source": [
    "#### 5. Create list like below with one command.\n",
    "[None, None, None, None, None, None, None, None, None, None, None,None, None, None, None, None, None, None, None, None] "
   ]
  },
  {
   "cell_type": "code",
   "execution_count": 6,
   "metadata": {},
   "outputs": [
    {
     "name": "stdout",
     "output_type": "stream",
     "text": [
      "enter number to create list : 2\n",
      "[None, None]\n"
     ]
    }
   ],
   "source": [
    "# Using Loop\n",
    "n = None\n",
    "l = []\n",
    "\n",
    "user = int(input(\"enter number to create list : \"))\n",
    "\n",
    "for i in range(user):\n",
    "    l.append(n)\n",
    "\n",
    "print(l)"
   ]
  },
  {
   "cell_type": "markdown",
   "metadata": {},
   "source": [
    "#### What would be output of following? "
   ]
  },
  {
   "cell_type": "code",
   "execution_count": 9,
   "metadata": {},
   "outputs": [
    {
     "name": "stdout",
     "output_type": "stream",
     "text": [
      "Value of List a: [1, 2, 3]\n",
      "Value of List b: [1, 2, 3]\n",
      "Value of List a: [1, 2, 3, 27]\n",
      "Value of List b: [1, 2, 3, 27]\n"
     ]
    }
   ],
   "source": [
    "a_list = [1,2,3]\n",
    "b_list = a_list\n",
    "a_list is b_list\n",
    "print(\"Value of List a:\",a_list)\n",
    "print(\"Value of List b:\",b_list)\n",
    "a_list.append(27)\n",
    "print(\"Value of List a:\",a_list)\n",
    "print(\"Value of List b:\",b_list)"
   ]
  },
  {
   "cell_type": "code",
   "execution_count": 10,
   "metadata": {},
   "outputs": [
    {
     "name": "stdout",
     "output_type": "stream",
     "text": [
      "Value of List a: [1, 2, 3]\n",
      "Value of List b: [1, 2, 3]\n",
      "Value of List a: [1, 2, 3, 27]\n",
      "Value of List b: [1, 2, 3]\n"
     ]
    }
   ],
   "source": [
    "a_list = [1,2,3]\n",
    "b_list = a_list[:]\n",
    "a_list is b_list\n",
    "print(\"Value of List a:\",a_list)\n",
    "print(\"Value of List b:\",b_list)\n",
    "a_list.append(27)\n",
    "print(\"Value of List a:\",a_list)\n",
    "print(\"Value of List b:\",b_list)"
   ]
  },
  {
   "cell_type": "markdown",
   "metadata": {},
   "source": [
    "### List Program"
   ]
  },
  {
   "cell_type": "markdown",
   "metadata": {},
   "source": [
    "#### 1. Create a list And Apply following method.\n",
    " Append\n",
    " Insert\n",
    " Extend\n",
    " Index\n",
    " Count\n",
    " Remove\n",
    " Reverse "
   ]
  },
  {
   "cell_type": "code",
   "execution_count": 18,
   "metadata": {},
   "outputs": [
    {
     "name": "stdout",
     "output_type": "stream",
     "text": [
      "Value of List l1: [10, 20, 30, 40]\n",
      "After Append Some Value: [10, 20, 30, 40, [23, 45]]\n",
      "Insert Value at 2nd Position [10, 20, 100, 30, 40, [23, 45]]\n",
      "Using Extend Method [10, 20, 100, 30, 40, [23, 45], 100, 300]\n",
      "100 Repeat at:2 times\n",
      "After Remove element:[10, 20, 100, 30, 40, [23, 45], 100]\n",
      "Reverse All element:[100, [23, 45], 40, 30, 100, 20, 10]\n"
     ]
    }
   ],
   "source": [
    "l1=[10,20,30,40]\n",
    "print(\"Value of List l1:\",l1)\n",
    "# Use Append Method\n",
    "l1.append([23,45])\n",
    "print(\"After Append Some Value:\",l1)\n",
    "# Use insert Method\n",
    "l1.insert(2,100)\n",
    "print(\"Insert Value at 2nd Position\",l1)\n",
    "# Use Extend Method\n",
    "l1.extend([100,300])\n",
    "print(\"Using Extend Method\",l1)\n",
    "# Use count Method\n",
    "x=l1.count(100)\n",
    "print(\"100 Repeat at:{} times\".format(x))\n",
    "# Remove element\n",
    "l1.remove(300)\n",
    "print(\"After Remove element:{}\".format(l1))\n",
    "# Reverse all element\n",
    "l1.reverse()\n",
    "print(\"Reverse All element:{}\".format(l1))"
   ]
  },
  {
   "cell_type": "markdown",
   "metadata": {},
   "source": [
    "#### 2. Create Following list and Apply some Operation.\n",
    "\n",
    "L1=[1,2,3,4,[\"python\",\"java\",\"c++\",(10,20,30)],5,6,7,[\"apple\",\"banana\",\"orange\"]] <br>\n",
    "**Print following:<br>**\n",
    "30<br>\n",
    "Orange->e<br>\n",
    "Python -> o<br>"
   ]
  },
  {
   "cell_type": "code",
   "execution_count": 34,
   "metadata": {},
   "outputs": [
    {
     "name": "stdout",
     "output_type": "stream",
     "text": [
      "[1, 2, 3, 4, ['python', 'java', 'c++', (10, 20, 30)], 5, 6, 7, ['apple', 'banana', 'orange']]\n",
      "=================\n",
      "30\n",
      "=================\n",
      "orange\n",
      "=================\n",
      "python\n"
     ]
    }
   ],
   "source": [
    "L1=[1,2,3,4,[\"python\",\"java\",\"c++\",(10,20,30)],5,6,7,[\"apple\",\"banana\",\"orange\"]]\n",
    "print(L1)\n",
    "print(\"=================\")\n",
    "print(L1[4][3][-1])\n",
    "print(\"=================\")\n",
    "print(L1[-1][-1])\n",
    "print(\"=================\")\n",
    "print(L1[4][0])"
   ]
  },
  {
   "cell_type": "markdown",
   "metadata": {},
   "source": [
    "#### 3. Create a one list .copy all the value in second list. Than change a one value that don’t effect on a copy list."
   ]
  },
  {
   "cell_type": "code",
   "execution_count": 36,
   "metadata": {},
   "outputs": [
    {
     "name": "stdout",
     "output_type": "stream",
     "text": [
      "Original fruit List: ['mango', 'Grapes', 'Gvava', 'Apple']\n",
      "Update fruit List: ['mango', 'Grapes', 'Gvava']\n"
     ]
    }
   ],
   "source": [
    "fruit=[\"mango\",\"Grapes\",\"Gvava\"]\n",
    "Update_fruit=fruit[:]\n",
    "fruit.append(\"Apple\")\n",
    "print(\"Original fruit List:\",fruit)\n",
    "print(\"Update fruit List:\",Update_fruit)"
   ]
  },
  {
   "cell_type": "markdown",
   "metadata": {},
   "source": [
    "#### 4.Create a one list .copy all the value in second list. Than change a one value. Original list and copy list both are same "
   ]
  },
  {
   "cell_type": "code",
   "execution_count": 37,
   "metadata": {},
   "outputs": [
    {
     "name": "stdout",
     "output_type": "stream",
     "text": [
      "Original fruit List: ['mango', 'Grapes', 'Gvava', 'Apple']\n",
      "Update fruit List: ['mango', 'Grapes', 'Gvava', 'Apple']\n"
     ]
    }
   ],
   "source": [
    "fruit=[\"mango\",\"Grapes\",\"Gvava\"]\n",
    "Update_fruit=fruit\n",
    "fruit.append(\"Apple\")\n",
    "print(\"Original fruit List:\",fruit)\n",
    "print(\"Update fruit List:\",Update_fruit)"
   ]
  },
  {
   "cell_type": "markdown",
   "metadata": {},
   "source": [
    "#### 5.Create a list print reverse list without using any method. "
   ]
  },
  {
   "cell_type": "code",
   "execution_count": 38,
   "metadata": {},
   "outputs": [
    {
     "name": "stdout",
     "output_type": "stream",
     "text": [
      "Reverse list\n",
      "[90, 90, 65, 32, 67, 435, 12]\n"
     ]
    }
   ],
   "source": [
    "l1=[12,435,67,32,65,90,90]\n",
    "print(\"Reverse list\")\n",
    "print(l1[::-1])"
   ]
  },
  {
   "cell_type": "markdown",
   "metadata": {},
   "source": [
    "#### 6.Create two list and join two list without using method"
   ]
  },
  {
   "cell_type": "code",
   "execution_count": 39,
   "metadata": {},
   "outputs": [
    {
     "name": "stdout",
     "output_type": "stream",
     "text": [
      "Concat of Two String: [1, 2, 3, 4, 5, 10, 20, 30, 40]\n"
     ]
    }
   ],
   "source": [
    "l1=[1,2,3,4,5]\n",
    "l2=[10,20,30,40]\n",
    "print(\"Concat of Two String:\",(l1+l2))"
   ]
  },
  {
   "cell_type": "markdown",
   "metadata": {},
   "source": [
    "#### 7.Create a list and repeat that list value in 5 times."
   ]
  },
  {
   "cell_type": "code",
   "execution_count": 40,
   "metadata": {},
   "outputs": [
    {
     "name": "stdout",
     "output_type": "stream",
     "text": [
      "Repeted List\n",
      "['Apple', 'Banana', 'Kivi', 'Apple', 'Banana', 'Kivi', 'Apple', 'Banana', 'Kivi', 'Apple', 'Banana', 'Kivi', 'Apple', 'Banana', 'Kivi']\n"
     ]
    }
   ],
   "source": [
    "fruit=[\"Apple\",\"Banana\",\"Kivi\"]\n",
    "print(\"Repeted List\")\n",
    "print(fruit*5)"
   ]
  },
  {
   "cell_type": "markdown",
   "metadata": {},
   "source": [
    "#### 8. Create a list and apply Assenting and descending order. "
   ]
  },
  {
   "cell_type": "code",
   "execution_count": 44,
   "metadata": {},
   "outputs": [
    {
     "name": "stdout",
     "output_type": "stream",
     "text": [
      "Fruit Name is Desending Order\n",
      "['Mango', 'Kivi', 'Grapes', 'Banana', 'Apple']\n"
     ]
    }
   ],
   "source": [
    "fruit=[\"Apple\",\"Banana\",\"Kivi\",\"Grapes\",\"Mango\"]\n",
    "print(\"Fruit Name is Desending Order\")\n",
    "fruit.sort(reverse=True)\n",
    "print(fruit)"
   ]
  },
  {
   "cell_type": "code",
   "execution_count": 45,
   "metadata": {},
   "outputs": [
    {
     "name": "stdout",
     "output_type": "stream",
     "text": [
      "Fruit Name is Assending Order\n",
      "['Apple', 'Banana', 'Grapes', 'Kivi', 'Mango']\n"
     ]
    }
   ],
   "source": [
    "fruit=[\"Apple\",\"Banana\",\"Kivi\",\"Grapes\",\"Mango\"]\n",
    "print(\"Fruit Name is Assending Order\")\n",
    "fruit.sort()\n",
    "print(fruit)"
   ]
  },
  {
   "cell_type": "markdown",
   "metadata": {},
   "source": [
    "### Tuple Program"
   ]
  },
  {
   "cell_type": "markdown",
   "metadata": {},
   "source": [
    "#### 1.  Create following Tuple Apply some Operation.\n",
    "t1=(1,2,3,['hello',10,20,30,\"world\"],4,5,6,(\"one\",\"two\",100,200,300))<br>\n",
    "**Print following.<br>**\n",
    "Two -> o<br>\n",
    "World->r<br>\n",
    "5 <br>"
   ]
  },
  {
   "cell_type": "code",
   "execution_count": 51,
   "metadata": {},
   "outputs": [
    {
     "name": "stdout",
     "output_type": "stream",
     "text": [
      "(1, 2, 3, ['hello', 10, 20, 30, 'world'], 4, 5, 6, ('one', 'two', 100, 200, 300))\n",
      "===============\n",
      "two\n",
      "===============\n",
      "r\n",
      "===============\n",
      "5\n"
     ]
    }
   ],
   "source": [
    "t1=(1,2,3,['hello',10,20,30,\"world\"],4,5,6,(\"one\",\"two\",100,200,300))\n",
    "print(t1)\n",
    "print(\"===============\")\n",
    "print(t1[-1][1])\n",
    "print(\"===============\")\n",
    "print(t1[3][4][2])\n",
    "print(\"===============\")\n",
    "print(t1[5])"
   ]
  },
  {
   "cell_type": "markdown",
   "metadata": {},
   "source": [
    "####  2. Create a tuple and Apply following Print first two value.\n",
    "Print last two value.<br>\n",
    "Skip first 3 value than print all tuple value.<br>\n",
    "Skip last 3 value than print all tuple value. <br>"
   ]
  },
  {
   "cell_type": "code",
   "execution_count": 62,
   "metadata": {},
   "outputs": [
    {
     "name": "stdout",
     "output_type": "stream",
     "text": [
      "Original List: [10, 20, 30, 40, 50]\n",
      "Last Two Value: [40, 50]\n",
      "Skip First 3 Values: [10, 20, 30]\n",
      "Skip Last 3 Values: [10, 20]\n"
     ]
    }
   ],
   "source": [
    "l1=[10,20,30,40,50]\n",
    "print(\"Original List:\",l1)\n",
    "print(\"Last Two Value:\",l1[-2:])\n",
    "print(\"Skip First 3 Values:\",l1[:3])\n",
    "print(\"Skip Last 3 Values:\",l1[:-3])"
   ]
  },
  {
   "cell_type": "markdown",
   "metadata": {},
   "source": [
    "#### 3.Create two tuple join two tuple. "
   ]
  },
  {
   "cell_type": "code",
   "execution_count": 64,
   "metadata": {},
   "outputs": [
    {
     "name": "stdout",
     "output_type": "stream",
     "text": [
      "Join Two Tuple\n",
      "(1, 2, 3, 10, 20, 30)\n"
     ]
    }
   ],
   "source": [
    "t1=(1,2,3)\n",
    "t2=(10,20,30)\n",
    "print(\"Join Two Tuple\")\n",
    "print(t1+t2)"
   ]
  },
  {
   "cell_type": "markdown",
   "metadata": {},
   "source": [
    "#### 4.Create tuple find length of tuple. "
   ]
  },
  {
   "cell_type": "code",
   "execution_count": 66,
   "metadata": {},
   "outputs": [
    {
     "name": "stdout",
     "output_type": "stream",
     "text": [
      "Length of tuple is: 12\n"
     ]
    }
   ],
   "source": [
    "t1=(10,20,30,23,34,23,45,56,67,45,67,34)\n",
    "print(\"Length of tuple is:\",len(t1))"
   ]
  },
  {
   "cell_type": "markdown",
   "metadata": {},
   "source": [
    "### Advance Program"
   ]
  },
  {
   "cell_type": "markdown",
   "metadata": {},
   "source": [
    "#### Print and count Duplicate value from Tuple. "
   ]
  },
  {
   "cell_type": "code",
   "execution_count": 67,
   "metadata": {},
   "outputs": [
    {
     "name": "stdout",
     "output_type": "stream",
     "text": [
      "10\n",
      "80\n",
      "100\n",
      "77\n"
     ]
    }
   ],
   "source": [
    "t=(10, 20, 30, 40, 50, 60, 70, 80, 90, 100, 10, 80, 77, 100, 78, 77)\n",
    "\n",
    "# print those diplicate numbers\n",
    "for i in range(0,len(t)):\n",
    "  if(t[i] in t[i+1:]):\n",
    "     print(t[i])"
   ]
  },
  {
   "cell_type": "markdown",
   "metadata": {},
   "source": [
    "#### Print count (frequency) of unique values from list (applicable after looping learning)"
   ]
  },
  {
   "cell_type": "code",
   "execution_count": 69,
   "metadata": {},
   "outputs": [
    {
     "name": "stdout",
     "output_type": "stream",
     "text": [
      "10 has occured 2  times\n",
      "20 has occured 1  times\n",
      "30 has occured 1  times\n",
      "40 has occured 1  times\n",
      "50 has occured 1  times\n",
      "60 has occured 1  times\n",
      "70 has occured 1  times\n",
      "80 has occured 2  times\n",
      "90 has occured 1  times\n",
      "100 has occured 2  times\n",
      "10 has occured 1  times\n",
      "80 has occured 1  times\n",
      "77 has occured 2  times\n",
      "100 has occured 1  times\n",
      "78 has occured 1  times\n",
      "77 has occured 1  times\n"
     ]
    }
   ],
   "source": [
    "for i in range(0,len(t)):\n",
    "  num=t[i]\n",
    "  count =1\n",
    "  print(num, \"has occured \", end=\"\")\n",
    "  for j in range (i+1,len(t)):\n",
    "    if (num == t[j]):\n",
    "      count =count +1\n",
    "  print(count,\" times\")"
   ]
  },
  {
   "cell_type": "markdown",
   "metadata": {},
   "source": [
    "### String Program"
   ]
  },
  {
   "cell_type": "markdown",
   "metadata": {},
   "source": [
    "#### 1. Enter any string by user and print reverse this string"
   ]
  },
  {
   "cell_type": "code",
   "execution_count": 71,
   "metadata": {},
   "outputs": [
    {
     "name": "stdout",
     "output_type": "stream",
     "text": [
      "Enter any stringhello\n",
      "Original String: hello\n",
      "Revese String: olleh\n"
     ]
    }
   ],
   "source": [
    "s=input(\"Enter any string\")\n",
    "print(\"Original String:\",s)\n",
    "print(\"Revese String:\",s[::-1])"
   ]
  },
  {
   "cell_type": "markdown",
   "metadata": {},
   "source": [
    "#### 2.Enter any string by user and change this string."
   ]
  },
  {
   "cell_type": "code",
   "execution_count": 74,
   "metadata": {},
   "outputs": [
    {
     "name": "stdout",
     "output_type": "stream",
     "text": [
      "Enter any stringhello\n",
      "Original String: hello\n",
      "change string is: hellodata\n"
     ]
    }
   ],
   "source": [
    "s=input(\"Enter any string\")\n",
    "print(\"Original String:\",s)\n",
    "print(\"change string is:\",s+\"data\")"
   ]
  },
  {
   "cell_type": "markdown",
   "metadata": {},
   "source": [
    "#### 3. Enter any string and character by user and search character is available String or Not."
   ]
  },
  {
   "cell_type": "code",
   "execution_count": 77,
   "metadata": {},
   "outputs": [
    {
     "name": "stdout",
     "output_type": "stream",
     "text": [
      "Enter any string:hello\n",
      "Enter any character:e\n",
      "True\n"
     ]
    }
   ],
   "source": [
    "s=input(\"Enter any string:\")\n",
    "c=input(\"Enter any character:\")\n",
    "print(c in s)"
   ]
  },
  {
   "cell_type": "markdown",
   "metadata": {},
   "source": [
    "#### 4. Create list, tuple and set and convert into string."
   ]
  },
  {
   "cell_type": "code",
   "execution_count": 87,
   "metadata": {},
   "outputs": [
    {
     "data": {
      "text/plain": [
       "'[10, 20, 30]'"
      ]
     },
     "execution_count": 87,
     "metadata": {},
     "output_type": "execute_result"
    }
   ],
   "source": [
    "l1=[10,20,30]\n",
    "str(l1)"
   ]
  },
  {
   "cell_type": "code",
   "execution_count": 88,
   "metadata": {},
   "outputs": [
    {
     "data": {
      "text/plain": [
       "'(100, 200, 300)'"
      ]
     },
     "execution_count": 88,
     "metadata": {},
     "output_type": "execute_result"
    }
   ],
   "source": [
    "t1=(100,200,300)\n",
    "str(t1)"
   ]
  },
  {
   "cell_type": "code",
   "execution_count": 89,
   "metadata": {},
   "outputs": [
    {
     "data": {
      "text/plain": [
       "\"{'a', 'c', 'b'}\""
      ]
     },
     "execution_count": 89,
     "metadata": {},
     "output_type": "execute_result"
    }
   ],
   "source": [
    "set1={'a','b','c'}\n",
    "str(set1)"
   ]
  },
  {
   "cell_type": "markdown",
   "metadata": {},
   "source": [
    "#### 5.Enter any String convert String Uppercase and Lowercase"
   ]
  },
  {
   "cell_type": "code",
   "execution_count": 90,
   "metadata": {},
   "outputs": [
    {
     "name": "stdout",
     "output_type": "stream",
     "text": [
      "HELLO WORLD\n",
      "hello world\n"
     ]
    }
   ],
   "source": [
    "s1=\"Hello World\"\n",
    "print(s1.upper())\n",
    "print(s1.lower())"
   ]
  },
  {
   "cell_type": "markdown",
   "metadata": {},
   "source": [
    "#### Enter the String to check that string Palindrome or not."
   ]
  },
  {
   "cell_type": "code",
   "execution_count": 92,
   "metadata": {},
   "outputs": [
    {
     "name": "stdout",
     "output_type": "stream",
     "text": [
      "Enter the Stringaba\n",
      "The string is Palindrome\n"
     ]
    }
   ],
   "source": [
    "s1=input(\"Enter the String\")\n",
    "rev=s1[::-1]\n",
    "if s1==rev:\n",
    "    print(\"The string is Palindrome\")\n",
    "else:\n",
    "    print(\"The string is not Palindrome\")"
   ]
  },
  {
   "cell_type": "code",
   "execution_count": null,
   "metadata": {},
   "outputs": [],
   "source": []
  }
 ],
 "metadata": {
  "kernelspec": {
   "display_name": "Python 3",
   "language": "python",
   "name": "python3"
  },
  "language_info": {
   "codemirror_mode": {
    "name": "ipython",
    "version": 3
   },
   "file_extension": ".py",
   "mimetype": "text/x-python",
   "name": "python",
   "nbconvert_exporter": "python",
   "pygments_lexer": "ipython3",
   "version": "3.8.8"
  }
 },
 "nbformat": 4,
 "nbformat_minor": 2
}
