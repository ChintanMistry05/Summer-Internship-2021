{
 "cells": [
  {
   "cell_type": "markdown",
   "metadata": {},
   "source": [
    "#### 1. Accept two value from user find sum, sub, mul, div with user defined function."
   ]
  },
  {
   "cell_type": "code",
   "execution_count": 3,
   "metadata": {},
   "outputs": [
    {
     "name": "stdout",
     "output_type": "stream",
     "text": [
      "enter the value of a:3\n",
      "Enter the value of b:4\n",
      "Sum of 3 and 4 is 7\n",
      "Substraction of 3 and 4 is -1\n",
      "Multiplication of 3 and 4 is 12\n",
      "Division of 3 and 4 is 0.75\n"
     ]
    }
   ],
   "source": [
    "def Add(a,b):\n",
    "    return a+b\n",
    "def Sub(a,b):\n",
    "    return a-b\n",
    "def Mul(a,b):\n",
    "    return a*b\n",
    "def Div(a,b):\n",
    "    return a/b\n",
    "a=eval(input(\"enter the value of a:\"))\n",
    "b=eval(input(\"Enter the value of b:\"))\n",
    "x=Add(a,b)\n",
    "print(\"Sum of {} and {} is {}\".format(a,b,x))\n",
    "x=Sub(a,b)\n",
    "print(\"Substraction of {} and {} is {}\".format(a,b,x))\n",
    "x=Mul(a,b)\n",
    "print(\"Multiplication of {} and {} is {}\".format(a,b,x))\n",
    "x=Div(a,b)\n",
    "print(\"Division of {} and {} is {}\".format(a,b,x))\n"
   ]
  },
  {
   "cell_type": "markdown",
   "metadata": {},
   "source": [
    "#### 2. Accept two value from user find max value user define function.\n"
   ]
  },
  {
   "cell_type": "code",
   "execution_count": 4,
   "metadata": {},
   "outputs": [
    {
     "name": "stdout",
     "output_type": "stream",
     "text": [
      "enter the value of a:56\n",
      "Enter the value of b:45\n",
      "maximum value is 56\n"
     ]
    }
   ],
   "source": [
    "def Maxval(a,b):\n",
    "    if a>b:\n",
    "        print(\"maximum value is {}\".format(a))\n",
    "    else:\n",
    "        print(\"maximum value is {}\".format(b))\n",
    "\n",
    "a=eval(input(\"enter the value of a:\"))\n",
    "b=eval(input(\"Enter the value of b:\"))\n",
    "Maxval(a,b)"
   ]
  },
  {
   "cell_type": "markdown",
   "metadata": {},
   "source": [
    "#### 3.  Find factorial of given a value."
   ]
  },
  {
   "cell_type": "code",
   "execution_count": 5,
   "metadata": {},
   "outputs": [
    {
     "name": "stdout",
     "output_type": "stream",
     "text": [
      "Please enter any number to find factorial: 4\n",
      "The factorial of 4 = 24\n"
     ]
    }
   ],
   "source": [
    "#Pyton program to find factorial of a number\n",
    "def factorial(num):#function definition\n",
    "    fact=1\n",
    "    for i in range(1, num+1):#for loop for finding factorial\n",
    "        fact=fact*i\n",
    "    return fact    #return factorial \n",
    "number=int(input(\"Please enter any number to find factorial: \"))\n",
    "result=factorial(number)#function call and assign the value to variable result\n",
    "print(\"The factorial of %d = %d\"%(number,result))"
   ]
  },
  {
   "cell_type": "markdown",
   "metadata": {},
   "source": [
    "#### 4.  Find Fibonacci series of given value. "
   ]
  },
  {
   "cell_type": "code",
   "execution_count": 7,
   "metadata": {},
   "outputs": [
    {
     "name": "stdout",
     "output_type": "stream",
     "text": [
      "Enter the Value:5\n",
      "Fibonacci sequence:\n",
      "0\n",
      "1\n",
      "1\n",
      "2\n",
      "3\n"
     ]
    }
   ],
   "source": [
    "# Python program to display the Fibonacci sequence\n",
    "def recur_fibo(n):\n",
    "    if n <= 1:\n",
    "        return n\n",
    "    else:\n",
    "        return(recur_fibo(n-1) + recur_fibo(n-2))\n",
    "\n",
    "nterms = eval(input(\"Enter the Value:\"))\n",
    "\n",
    "# check if the number of terms is valid\n",
    "if nterms <= 0:\n",
    "    print(\"Plese enter a positive integer\")\n",
    "else:\n",
    "    print(\"Fibonacci sequence:\")\n",
    "    for i in range(nterms):\n",
    "           print(recur_fibo(i))"
   ]
  },
  {
   "cell_type": "markdown",
   "metadata": {},
   "source": [
    "#### 5. Input Number and create a of even number of using lambda function."
   ]
  },
  {
   "cell_type": "code",
   "execution_count": 12,
   "metadata": {},
   "outputs": [
    {
     "name": "stdout",
     "output_type": "stream",
     "text": [
      "enter the Value10\n",
      "[0, 2, 4, 6, 8, 10]\n"
     ]
    }
   ],
   "source": [
    "n =eval(input(\"enter the Value\"))\n",
    "even_Val=list(filter(lambda n: n%2==0, range(n+1)))\n",
    "print(even_Val)"
   ]
  },
  {
   "cell_type": "markdown",
   "metadata": {},
   "source": [
    "#### 6. create a list return square of given list using lambda function."
   ]
  },
  {
   "cell_type": "code",
   "execution_count": 15,
   "metadata": {},
   "outputs": [
    {
     "name": "stdout",
     "output_type": "stream",
     "text": [
      "enter the Value:3\n",
      "[0, 1, 4, 9]\n"
     ]
    }
   ],
   "source": [
    "n =eval(input(\"enter the Value:\"))\n",
    "sq_Val=list(map(lambda n: n**2, range(n+1)))\n",
    "print(sq_Val)"
   ]
  },
  {
   "cell_type": "markdown",
   "metadata": {},
   "source": [
    "#### 7. Write a Python function to find the Max of three numbers"
   ]
  },
  {
   "cell_type": "code",
   "execution_count": 16,
   "metadata": {},
   "outputs": [
    {
     "name": "stdout",
     "output_type": "stream",
     "text": [
      "Enter the  value of a:3\n",
      "Enter the  value of b:4\n",
      "Enter the  value of c:5\n",
      "Maximum value is 5\n"
     ]
    }
   ],
   "source": [
    "def Max_Three(a,b,c):\n",
    "    if a>b:\n",
    "        if a>c:\n",
    "            print(\"Maximum value is:{}\".format(a))\n",
    "        else:\n",
    "             print(\"Maximum value is: {}\".format(c))\n",
    "    else:\n",
    "        if b>c:\n",
    "             print(\"Maximum value is: {}\".format(b))\n",
    "        else:\n",
    "             print(\"Maximum value is: {}\".format(c))\n",
    "\n",
    "a=eval(input(\"Enter the  value of a:\"))\n",
    "b=eval(input(\"Enter the  value of b:\"))\n",
    "c=eval(input(\"Enter the  value of c:\"))\n",
    "Max_Three(a,b,c)"
   ]
  },
  {
   "cell_type": "markdown",
   "metadata": {},
   "source": [
    "#### 8. create a list find sum of all numbers Using Function.\n"
   ]
  },
  {
   "cell_type": "code",
   "execution_count": 18,
   "metadata": {},
   "outputs": [
    {
     "name": "stdout",
     "output_type": "stream",
     "text": [
      "List is: [1, 2, 5, 3, 4, 6, 7, 9, 8, 10]\n",
      "sum of all list Value : 55\n"
     ]
    }
   ],
   "source": [
    "def sum_list(l1):\n",
    "    x=sum(l1)\n",
    "    print(\"sum of all list Value :\",x)\n",
    "l1=[1,2,5,3,4,6,7,9,8,10]\n",
    "print(\"List is:\",l1)\n",
    "sum_list(l1)"
   ]
  },
  {
   "cell_type": "markdown",
   "metadata": {},
   "source": [
    "#### 9. Accept string from user calculate number of uppercase and lowercase of number"
   ]
  },
  {
   "cell_type": "code",
   "execution_count": 16,
   "metadata": {},
   "outputs": [
    {
     "name": "stdout",
     "output_type": "stream",
     "text": [
      "Enter the String:Hello World\n",
      "Number of Uppercase Character: 2\n",
      "Number of Lowercase Character: 8\n"
     ]
    }
   ],
   "source": [
    "def Upper_cal(s1):\n",
    "    u=0\n",
    "    for s in s1:\n",
    "        if s>='A' and s<='Z':\n",
    "            u+=1\n",
    "    print(\"Number of Uppercase Character:\",u)\n",
    "def Lower_cal(s1):\n",
    "    l=0\n",
    "    for s in s1:\n",
    "        if s>='a' and s<='z':\n",
    "            l+=1\n",
    "    print(\"Number of Lowercase Character:\",l)\n",
    "s1=input(\"Enter the String:\")\n",
    "Upper_cal(s1)\n",
    "Lower_cal(s1)\n"
   ]
  }
 ],
 "metadata": {
  "kernelspec": {
   "display_name": "Python 3",
   "language": "python",
   "name": "python3"
  },
  "language_info": {
   "codemirror_mode": {
    "name": "ipython",
    "version": 3
   },
   "file_extension": ".py",
   "mimetype": "text/x-python",
   "name": "python",
   "nbconvert_exporter": "python",
   "pygments_lexer": "ipython3",
   "version": "3.7.4"
  }
 },
 "nbformat": 4,
 "nbformat_minor": 2
}
