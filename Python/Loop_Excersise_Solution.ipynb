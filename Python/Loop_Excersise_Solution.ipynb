{
 "cells": [
  {
   "cell_type": "markdown",
   "metadata": {
    "id": "EctJ9BXJQPwD"
   },
   "source": [
    "### Basic"
   ]
  },
  {
   "cell_type": "markdown",
   "metadata": {
    "id": "wi6CWfDqQPwH"
   },
   "source": [
    "####  1. Print 10 to 1 value."
   ]
  },
  {
   "cell_type": "code",
   "execution_count": null,
   "metadata": {
    "id": "bQsjVLwqQPwJ",
    "outputId": "9f2e0196-0cce-4c1e-81cb-60758a208bfe"
   },
   "outputs": [
    {
     "name": "stdout",
     "output_type": "stream",
     "text": [
      "10\n",
      "9\n",
      "8\n",
      "7\n",
      "6\n",
      "5\n",
      "4\n",
      "3\n",
      "2\n",
      "1\n"
     ]
    }
   ],
   "source": [
    "for i in range(10,0,-1):\n",
    "    print(i)"
   ]
  },
  {
   "cell_type": "markdown",
   "metadata": {
    "id": "KNPwMU3SQPwM"
   },
   "source": [
    "#### 2. Enter a value from user print Multiplication Table.\n"
   ]
  },
  {
   "cell_type": "code",
   "execution_count": null,
   "metadata": {
    "id": "ePoVpry0QPwN",
    "outputId": "598a8110-20ce-4454-e40e-22f14f41a446"
   },
   "outputs": [
    {
     "name": "stdout",
     "output_type": "stream",
     "text": [
      "Enter the value:6\n",
      "1 * 6 = 6\n",
      "2 * 6 = 12\n",
      "3 * 6 = 18\n",
      "4 * 6 = 24\n",
      "5 * 6 = 30\n",
      "6 * 6 = 36\n",
      "7 * 6 = 42\n",
      "8 * 6 = 48\n",
      "9 * 6 = 54\n",
      "10 * 6 = 60\n"
     ]
    }
   ],
   "source": [
    "n=eval(input(\"Enter the value:\"))\n",
    "for i in range(1,11):\n",
    "    print(i,\"*\",n,\"=\",i*n)"
   ]
  },
  {
   "cell_type": "markdown",
   "metadata": {
    "id": "-r3aJJUYQPwO"
   },
   "source": [
    "#### 3. Print even value between 1 to 50."
   ]
  },
  {
   "cell_type": "code",
   "execution_count": null,
   "metadata": {
    "id": "b0-89iNwQPwO",
    "outputId": "a6fc0300-1d9f-482e-92bf-88e07c76aa33"
   },
   "outputs": [
    {
     "name": "stdout",
     "output_type": "stream",
     "text": [
      "0,2,4,6,8,10,12,14,16,18,20,22,24,26,28,30,32,34,36,38,40,42,44,46,48,50,"
     ]
    }
   ],
   "source": [
    "for i in range(0,51,2):\n",
    "    print(i,end=\",\")"
   ]
  },
  {
   "cell_type": "code",
   "execution_count": null,
   "metadata": {
    "id": "b1ZK5osqQPwP",
    "outputId": "b73c4d59-9479-49d9-970b-ff43b9a76858"
   },
   "outputs": [
    {
     "name": "stdout",
     "output_type": "stream",
     "text": [
      "0,2,4,6,8,10,12,14,16,18,20,22,24,26,28,30,32,34,36,38,40,42,44,46,48,50,"
     ]
    }
   ],
   "source": [
    "#or\n",
    "for i in range(0,51):\n",
    "    if i%2==0:\n",
    "        print(i,end=\",\")"
   ]
  },
  {
   "cell_type": "markdown",
   "metadata": {
    "id": "jjTeE1dqQPwQ"
   },
   "source": [
    "#### 4. Print odd value between 1 to 50."
   ]
  },
  {
   "cell_type": "code",
   "execution_count": null,
   "metadata": {
    "id": "qjEqRxmkQPwR",
    "outputId": "06eeeebf-30e3-4b50-cf6a-1203a250e9a1"
   },
   "outputs": [
    {
     "name": "stdout",
     "output_type": "stream",
     "text": [
      "1,3,5,7,9,11,13,15,17,19,21,23,25,27,29,31,33,35,37,39,41,43,45,47,49,"
     ]
    }
   ],
   "source": [
    "for i in range(1,51,2):\n",
    "    print(i,end=\",\")"
   ]
  },
  {
   "cell_type": "code",
   "execution_count": null,
   "metadata": {
    "id": "P9sQ1ghTQPwS",
    "outputId": "bab1381e-9754-4d66-860a-8e7188730cd7"
   },
   "outputs": [
    {
     "name": "stdout",
     "output_type": "stream",
     "text": [
      "1,3,5,7,9,11,13,15,17,19,21,23,25,27,29,31,33,35,37,39,41,43,45,47,49,"
     ]
    }
   ],
   "source": [
    "#or\n",
    "for i in range(1,51):\n",
    "    if i%2!=0:\n",
    "        print(i,end=\",\")"
   ]
  },
  {
   "cell_type": "markdown",
   "metadata": {
    "id": "hQMuAC6rQPwS"
   },
   "source": [
    " #### 5. Print that number between range of 1 to 50 it is divisible by 5 or 10."
   ]
  },
  {
   "cell_type": "code",
   "execution_count": null,
   "metadata": {
    "id": "r8UD205wQPwT",
    "outputId": "0ef809de-deb0-4458-81de-07b50ab62bdb"
   },
   "outputs": [
    {
     "name": "stdout",
     "output_type": "stream",
     "text": [
      "10,20,30,40,50,"
     ]
    }
   ],
   "source": [
    "for i in range(1,51):\n",
    "    if i%5==0 and i%10==0:\n",
    "        print(i,end=\",\")"
   ]
  },
  {
   "cell_type": "markdown",
   "metadata": {
    "id": "6je1D45NQPwT"
   },
   "source": [
    "#### 6. Print square or cube of 1 to 50 number."
   ]
  },
  {
   "cell_type": "code",
   "execution_count": null,
   "metadata": {
    "id": "QZEHDBQAQPwU",
    "outputId": "b2623e5b-e9d2-47c3-dc19-1121e02e037f"
   },
   "outputs": [
    {
     "name": "stdout",
     "output_type": "stream",
     "text": [
      "1 1 1\n",
      "2 4 8\n",
      "3 9 27\n",
      "4 16 64\n",
      "5 25 125\n",
      "6 36 216\n",
      "7 49 343\n",
      "8 64 512\n",
      "9 81 729\n",
      "10 100 1000\n",
      "11 121 1331\n",
      "12 144 1728\n",
      "13 169 2197\n",
      "14 196 2744\n",
      "15 225 3375\n",
      "16 256 4096\n",
      "17 289 4913\n",
      "18 324 5832\n",
      "19 361 6859\n",
      "20 400 8000\n",
      "21 441 9261\n",
      "22 484 10648\n",
      "23 529 12167\n",
      "24 576 13824\n",
      "25 625 15625\n",
      "26 676 17576\n",
      "27 729 19683\n",
      "28 784 21952\n",
      "29 841 24389\n",
      "30 900 27000\n",
      "31 961 29791\n",
      "32 1024 32768\n",
      "33 1089 35937\n",
      "34 1156 39304\n",
      "35 1225 42875\n",
      "36 1296 46656\n",
      "37 1369 50653\n",
      "38 1444 54872\n",
      "39 1521 59319\n",
      "40 1600 64000\n",
      "41 1681 68921\n",
      "42 1764 74088\n",
      "43 1849 79507\n",
      "44 1936 85184\n",
      "45 2025 91125\n",
      "46 2116 97336\n",
      "47 2209 103823\n",
      "48 2304 110592\n",
      "49 2401 117649\n",
      "50 2500 125000\n"
     ]
    }
   ],
   "source": [
    "for i in range(1,51):\n",
    "       print(i,i*i,i*i*i)"
   ]
  },
  {
   "cell_type": "markdown",
   "metadata": {
    "id": "DU63iCujQPwU"
   },
   "source": [
    "####  7.Create a list print sum of all list value."
   ]
  },
  {
   "cell_type": "code",
   "execution_count": null,
   "metadata": {
    "id": "7Gyj_aEXQPwV",
    "outputId": "6347b2b4-f196-47f8-fefb-e6bd77f5139e"
   },
   "outputs": [
    {
     "name": "stdout",
     "output_type": "stream",
     "text": [
      "647\n"
     ]
    }
   ],
   "source": [
    "l1=[34,56,67,54,67,56,67,34,78,56,78]\n",
    "s=0\n",
    "for  i in l1:\n",
    "    s=s+i\n",
    "print(s)"
   ]
  },
  {
   "cell_type": "markdown",
   "metadata": {
    "id": "9m0O_8MoQPwV"
   },
   "source": [
    "#### 8. Fibonacci series"
   ]
  },
  {
   "cell_type": "code",
   "execution_count": null,
   "metadata": {
    "id": "au2117DDQPwV",
    "outputId": "681d034b-2ad2-478e-a617-c9d5b212a535"
   },
   "outputs": [
    {
     "name": "stdout",
     "output_type": "stream",
     "text": [
      "How many terms? 5\n",
      "Fibonacci sequence:\n",
      "0\n",
      "1\n",
      "1\n",
      "2\n",
      "3\n"
     ]
    }
   ],
   "source": [
    "# Program to display the Fibonacci sequence up to n-th term\n",
    "\n",
    "nterms = int(input(\"How many terms? \"))\n",
    "\n",
    "# first two terms\n",
    "n1, n2 = 0, 1\n",
    "count = 0\n",
    "\n",
    "# check if the number of terms is valid\n",
    "if nterms <= 0:\n",
    "    print(\"Please enter a positive integer\")\n",
    "elif nterms == 1:\n",
    "    print(\"Fibonacci sequence upto\",nterms,\":\")\n",
    "    print(n1)\n",
    "else:\n",
    "    print(\"Fibonacci sequence:\")\n",
    "    while count < nterms:\n",
    "        print(n1)\n",
    "        nth = n1 + n2\n",
    "        # update values\n",
    "        n1 = n2\n",
    "        n2 = nth\n",
    "        count += 1"
   ]
  },
  {
   "cell_type": "markdown",
   "metadata": {
    "id": "VhTmj6eOQPwW"
   },
   "source": [
    "#### 10. Factorial program\n"
   ]
  },
  {
   "cell_type": "code",
   "execution_count": null,
   "metadata": {
    "id": "WxAOEjrgQPwX",
    "outputId": "3f92cf7c-88b5-4787-d4d7-7b977f2567fa"
   },
   "outputs": [
    {
     "name": "stdout",
     "output_type": "stream",
     "text": [
      "Enter a number: 3\n",
      "The factorial of 3 is 6\n"
     ]
    }
   ],
   "source": [
    "\n",
    "\n",
    "# To take input from the user\n",
    "num = int(input(\"Enter a number: \"))\n",
    "\n",
    "factorial = 1\n",
    "\n",
    "# check if the number is negative, positive or zero\n",
    "if num < 0:\n",
    "       print(\"Sorry, factorial does not exist for negative numbers\")\n",
    "elif num == 0:\n",
    "       print(\"The factorial of 0 is 1\")\n",
    "else:\n",
    "       for i in range(1,num + 1):\n",
    "            factorial = factorial*i\n",
    "        print(\"The factorial of\",num,\"is\",factorial)"
   ]
  },
  {
   "cell_type": "markdown",
   "metadata": {
    "id": "TBPkdcY8QPwX"
   },
   "source": [
    "#### 9.  Enter the value by user and find sum of n number"
   ]
  },
  {
   "cell_type": "code",
   "execution_count": null,
   "metadata": {
    "id": "24h8p0Z1QPwY",
    "outputId": "fc1838ca-7e30-47a5-e1d9-c48d02c1452d"
   },
   "outputs": [
    {
     "name": "stdout",
     "output_type": "stream",
     "text": [
      "Enter the Number23\n",
      "sum of 1 to 23 number is 276\n"
     ]
    }
   ],
   "source": [
    "n=eval(input(\"Enter the Number\"))\n",
    "s=0\n",
    "for i in range(0,n+1):\n",
    "    s=s+i\n",
    "print(\"sum of 1 to {} number is {}\".format(n,s))"
   ]
  },
  {
   "cell_type": "markdown",
   "metadata": {
    "id": "_pm8c0HhQPwY"
   },
   "source": [
    "### Advance "
   ]
  },
  {
   "cell_type": "markdown",
   "metadata": {
    "id": "cArXpmxXQPwY"
   },
   "source": [
    "#### 1. Create following Program"
   ]
  },
  {
   "cell_type": "markdown",
   "metadata": {
    "id": "hjMSske1QPwZ"
   },
   "source": [
    "#### * \n",
    "#### *  *\n",
    "#### *  *  *\n",
    "#### *  *  *  * \n",
    "#### *  *  *  *  *"
   ]
  },
  {
   "cell_type": "code",
   "execution_count": null,
   "metadata": {
    "id": "eD-Kdx6zQPwZ",
    "outputId": "4c3a7f79-3508-437a-b76c-5f8fba2479f0"
   },
   "outputs": [
    {
     "name": "stdout",
     "output_type": "stream",
     "text": [
      "* \n",
      "* * \n",
      "* * * \n",
      "* * * * \n",
      "* * * * * \n"
     ]
    }
   ],
   "source": [
    "for i in range(1,6):\n",
    "    for j in range(1,i+1):\n",
    "        print(\"*\",end=\" \")\n",
    "    print()"
   ]
  },
  {
   "cell_type": "markdown",
   "metadata": {
    "id": "llZSpRH2QPwZ"
   },
   "source": [
    "#### * * * * * * \n",
    "#### * * * * * \n",
    "#### * * * * \n",
    "#### * * * \n",
    "#### * * \n",
    "#### *"
   ]
  },
  {
   "cell_type": "code",
   "execution_count": null,
   "metadata": {
    "id": "vxyroXm3QPwa",
    "outputId": "d0c709d8-e9db-40bb-8024-97da064f088d"
   },
   "outputs": [
    {
     "name": "stdout",
     "output_type": "stream",
     "text": [
      "* * * * * * \n",
      "* * * * * \n",
      "* * * * \n",
      "* * * \n",
      "* * \n",
      "* \n"
     ]
    }
   ],
   "source": [
    "for i in range(6,0,-1):\n",
    "    for j in range(1,i+1):\n",
    "        print(\"*\",end=\" \")\n",
    "    print()"
   ]
  },
  {
   "cell_type": "markdown",
   "metadata": {
    "id": "HjuxuGlHQPwa"
   },
   "source": [
    "1  <br>\n",
    "2 2 <br>\n",
    "3 3 3 <br>\n",
    "4 4 4 4<br>\n",
    "5 5 5 5 5<br>"
   ]
  },
  {
   "cell_type": "code",
   "execution_count": null,
   "metadata": {
    "id": "4qbetoPiQPwb",
    "outputId": "57c617b4-b8ed-42a3-dcff-7f17c1230af1"
   },
   "outputs": [
    {
     "name": "stdout",
     "output_type": "stream",
     "text": [
      "1 \n",
      "2 2 \n",
      "3 3 3 \n",
      "4 4 4 4 \n",
      "5 5 5 5 5 \n"
     ]
    }
   ],
   "source": [
    "for i in range(1,6):\n",
    "    for j in range(1,i+1):\n",
    "        print(i,end=\" \")\n",
    "    print()"
   ]
  },
  {
   "cell_type": "markdown",
   "metadata": {
    "id": "Ljm6RgiLQPwb"
   },
   "source": [
    "1<br>\n",
    "1 2<br>\n",
    "1 2 3<br>\n",
    "1 2 3 4<br>\n",
    "1 2 3 4 5<br>"
   ]
  },
  {
   "cell_type": "code",
   "execution_count": null,
   "metadata": {
    "id": "6We0PB6oQPwb",
    "outputId": "4079ac4a-ede2-4669-b3ac-cd5cc473c682"
   },
   "outputs": [
    {
     "name": "stdout",
     "output_type": "stream",
     "text": [
      "1 \n",
      "1 2 \n",
      "1 2 3 \n",
      "1 2 3 4 \n",
      "1 2 3 4 5 \n"
     ]
    }
   ],
   "source": [
    "for i in range(1,6):\n",
    "    for j in range(1,i+1):\n",
    "        print(j,end=\" \")\n",
    "    print()"
   ]
  },
  {
   "cell_type": "markdown",
   "metadata": {
    "id": "KuDUtjunQPwc"
   },
   "source": [
    "#### 2. Print prime number of 1 to 50."
   ]
  },
  {
   "cell_type": "code",
   "execution_count": null,
   "metadata": {
    "id": "ku8kPBofQPwc",
    "outputId": "b91a042e-4f71-4c6d-d313-291f11578c32"
   },
   "outputs": [
    {
     "name": "stdout",
     "output_type": "stream",
     "text": [
      "Enter lower range: 1\n",
      "Enter upper range: 40\n",
      "2,3,5,7,11,13,17,19,23,29,31,37,"
     ]
    }
   ],
   "source": [
    "lower = int(input(\"Enter lower range: \"))  \n",
    "upper = int(input(\"Enter upper range: \"))  \n",
    "  \n",
    "for num in range(lower,upper + 1):  \n",
    "    if num > 1:  \n",
    "        for i in range(2,num):  \n",
    "            if (num % i) == 0:  \n",
    "                break  \n",
    "        else:  \n",
    "            print(num,end=\",\")  "
   ]
  },
  {
   "cell_type": "markdown",
   "metadata": {
    "id": "yJF56E5bQPwd"
   },
   "source": [
    "#### 3. Enter the value from user find it is Armstrong number or Not.\n",
    "Example: values is 123:<br>\n",
    "Output: it is not Armstrong<br>\n",
    "Armstrong meaning: 1<br>\n",
    "3+2<br>\n",
    "3+33=123 or 1234 : 14+24+34+44 =1234\n"
   ]
  },
  {
   "cell_type": "code",
   "execution_count": null,
   "metadata": {
    "id": "m2DQQlXeQPwd",
    "outputId": "dd14ee8b-1cea-4935-e7b0-7f4845e7a743"
   },
   "outputs": [
    {
     "name": "stdout",
     "output_type": "stream",
     "text": [
      "Enter a number: 370\n",
      "370 is an Armstrong number\n"
     ]
    }
   ],
   "source": [
    "# take input from the user\n",
    "num = int(input(\"Enter a number: \"))\n",
    "\n",
    "# initialize sum\n",
    "sum = 0\n",
    "\n",
    "# find the sum of the cube of each digit\n",
    "temp = num\n",
    "while temp > 0:\n",
    "    digit = temp % 10\n",
    "    sum += digit ** 3\n",
    "    temp //= 10\n",
    "\n",
    "# display the result\n",
    "if num == sum:\n",
    "    print(num,\"is an Armstrong number\")\n",
    "else:\n",
    "    print(num,\"is not an Armstrong number\")"
   ]
  },
  {
   "cell_type": "markdown",
   "metadata": {
    "id": "kA1lPVnUQPwe"
   },
   "source": [
    "#### 4. print following Program"
   ]
  },
  {
   "cell_type": "markdown",
   "metadata": {
    "id": "iYk1SdOIQPwe"
   },
   "source": [
    "0 1 2 3 4 5 <br>\n",
    "0 1 2 3 4<br>\n",
    "0 1 2 3<br>\n",
    "0 1 2<br>\n",
    "0 1<br>\n",
    "0\n"
   ]
  },
  {
   "cell_type": "code",
   "execution_count": null,
   "metadata": {
    "id": "zlXRssIaQPwe",
    "outputId": "35294e59-ff1e-4be4-b305-2c3dc1fc8cff"
   },
   "outputs": [
    {
     "name": "stdout",
     "output_type": "stream",
     "text": [
      "0 1 2 3 4 5 6 7 8 9 \n",
      "  0 1 2 3 4 5 6 7 8 \n",
      "    0 1 2 3 4 5 6 7 \n",
      "      0 1 2 3 4 5 6 \n",
      "        0 1 2 3 4 5 \n",
      "          0 1 2 3 4 \n",
      "            0 1 2 3 \n",
      "              0 1 2 \n",
      "                0 1 \n",
      "                  0 \n"
     ]
    }
   ],
   "source": [
    "for i in range(10):\n",
    "    for j in range(i):\n",
    "        print(' ', end=' ')\n",
    "    for j in range(10-i):\n",
    "        print(j, end=' ')\n",
    "    print()"
   ]
  },
  {
   "cell_type": "markdown",
   "metadata": {
    "id": "LKNsB635QPwf"
   },
   "source": [
    "#### 5. Print Following Table on the Screen"
   ]
  },
  {
   "cell_type": "code",
   "execution_count": null,
   "metadata": {
    "id": "ZVhIqZu_QPwf",
    "outputId": "670fbc6f-ff62-42ed-9693-b88dde9354b7"
   },
   "outputs": [
    {
     "name": "stdout",
     "output_type": "stream",
     "text": [
      "\t1   2   3   4   5   6   7   8   9  10\n",
      " +--------------------------------------------\n",
      " 1  |   1   2   3   4   5   6   7   8   9  10 \n",
      " 2  |   2   4   6   8  10  12  14  16  18  20 \n",
      " 3  |   3   6   9  12  15  18  21  24  27  30 \n",
      " 4  |   4   8  12  16  20  24  28  32  36  40 \n",
      " 5  |   5  10  15  20  25  30  35  40  45  50 \n",
      " 6  |   6  12  18  24  30  36  42  48  54  60 \n",
      " 7  |   7  14  21  28  35  42  49  56  63  70 \n",
      " 8  |   8  16  24  32  40  48  56  64  72  80 \n",
      " 9  |   9  18  27  36  45  54  63  72  81  90 \n",
      "10  |  10  20  30  40  50  60  70  80  90 100 \n"
     ]
    }
   ],
   "source": [
    "print(\"\\t1   2   3   4   5   6   7   8   9  10\")\n",
    "print(\" +--------------------------------------------\")\n",
    "for row in range(1, 11):\n",
    "    if row < 10:\n",
    "        print(\" \", end=\"\")\n",
    "    print(row, \" | \", end=\"\") # Print heading for this row.\n",
    "    for column in range(1, 11): # Table has 10 columns.\n",
    "        product = row*column; # Compute product\n",
    "        if product < 100: # Need to add space?\t\n",
    "            print(end=\" \")\n",
    "        if product < 10: # Need to add another space?\n",
    "            print(end=\" \")\n",
    "        print(product, end=\" \") \n",
    "    print()\n"
   ]
  },
  {
   "cell_type": "markdown",
   "metadata": {
    "id": "EF4g31wlQPwf"
   },
   "source": [
    "#### 6. Enter the Value from user Print 1^1 + 2^2 + 3^2 + 4^2 + 5^2 =  55 serise."
   ]
  },
  {
   "cell_type": "code",
   "execution_count": null,
   "metadata": {
    "id": "u4PiQIpwQPwg",
    "outputId": "4864b7e1-1fec-4363-d283-a34629fae6ce"
   },
   "outputs": [
    {
     "name": "stdout",
     "output_type": "stream",
     "text": [
      "enter number5\n",
      "1^1 + 2^2 + 3^2 + 4^2 + 5^2 =  55\n"
     ]
    }
   ],
   "source": [
    "user = int(input(\"enter number\"))\n",
    "result = 1\n",
    "x=0\n",
    "if (user > 0):\n",
    "    print(\"1^1\",end=\"\")\n",
    "    for x in range(2,user+1):\n",
    "        result = result + int(x*x)\n",
    "        print(\" +\",str(x)+\"^2\",end=\"\")\n",
    "elif(user <0):\n",
    "    x=-1  \n",
    "    print(\"(-1)^2\",end=\"\")\n",
    "    while(x>user):\n",
    "        x=x-1\n",
    "        print(\" +\",\"(\"+str(x)+\")^2\",end=\"\")\n",
    "        result = result + int(x*x)\n",
    "else:\n",
    "    result=0\n",
    "print(\" = \",result) \n"
   ]
  },
  {
   "cell_type": "markdown",
   "metadata": {
    "id": "JkeaD6nmQPwh"
   },
   "source": [
    "#### 7. Enter the any value from User find Range of suqare . \n",
    "**Example:** \n",
    "enter number : 3<br>\n",
    "{1: 1, 2: 4, 3: 9}<br>\n",
    "ENTER number of ending: 6<br>\n",
    "{1: 1, 2: 4, 3: 9, 4: 16, 5: 25, 6: 36}<br>"
   ]
  },
  {
   "cell_type": "code",
   "execution_count": null,
   "metadata": {
    "id": "0_XlPdEcQPwi",
    "outputId": "e3dd4efb-7736-4293-c5b8-f54536520b47"
   },
   "outputs": [
    {
     "name": "stdout",
     "output_type": "stream",
     "text": [
      "enter number : 3\n",
      "{1: 1, 2: 4, 3: 9}\n",
      "ENTER number of ending: 6\n",
      "{1: 1, 2: 4, 3: 9, 4: 16, 5: 25, 6: 36}\n"
     ]
    }
   ],
   "source": [
    "a = input(\"enter number : \")\n",
    "square = {}\n",
    "for num in range(1,int(a)+1):\n",
    "    square[num] = num**2\n",
    "print(square)\n",
    "\n",
    "# OR\n",
    "number =int(input(\"ENTER number of ending: \"))\n",
    "square = {x:x**2 for x in range(1,number+1)}\n",
    "print(str(square))"
   ]
  },
  {
   "cell_type": "markdown",
   "metadata": {
    "id": "b0OJztnVQPwj"
   },
   "source": [
    "#### 8.  remove duplicates from list  (without using set)"
   ]
  },
  {
   "cell_type": "code",
   "execution_count": null,
   "metadata": {
    "id": "b1nnsUGYQPwj",
    "outputId": "9e884262-1bfd-49c8-882c-8b6d0728de20"
   },
   "outputs": [
    {
     "name": "stdout",
     "output_type": "stream",
     "text": [
      "[1, 2, 3, 4, 5, 9]\n"
     ]
    }
   ],
   "source": [
    "list1=[1,2,3,4,5,1,3,9,1,1,1,3]\n",
    "list2=[]\n",
    "for i in range(len(list1)):\n",
    "    #print(list1[i],end=\" \")\n",
    "    if (list1[i] not in list2): \n",
    "        list2.append(list1[i])\n",
    "print(list2)"
   ]
  },
  {
   "cell_type": "code",
   "execution_count": null,
   "metadata": {
    "id": "H6aWR3d5QPwk"
   },
   "outputs": [],
   "source": []
  },
  {
   "cell_type": "markdown",
   "metadata": {
    "id": "xMQGFBNKQWK9"
   },
   "source": [
    "Print Following Output\n",
    "```\n",
    "p \n",
    "py\n",
    "pyt\n",
    "pyth\n",
    "pytho\n",
    "python\n",
    "pytho\n",
    "pyth\n",
    "pyt\n",
    "py\n",
    "p\n",
    "```\n",
    "\n"
   ]
  },
  {
   "cell_type": "code",
   "execution_count": 1,
   "metadata": {
    "colab": {
     "base_uri": "https://localhost:8080/"
    },
    "executionInfo": {
     "elapsed": 7,
     "status": "ok",
     "timestamp": 1622092776178,
     "user": {
      "displayName": "bela rathod",
      "photoUrl": "",
      "userId": "00420564244357723073"
     },
     "user_tz": -330
    },
    "id": "xv6i_7xoQbPC",
    "outputId": "b5783652-e73e-44b5-ea4d-ae8aa40b39c0"
   },
   "outputs": [
    {
     "name": "stdout",
     "output_type": "stream",
     "text": [
      "p\n",
      "py\n",
      "pyt\n",
      "pyth\n",
      "pytho\n",
      "python\n",
      "pytho\n",
      "pyth\n",
      "pyt\n",
      "py\n",
      "p\n",
      "\n"
     ]
    }
   ],
   "source": [
    "my_string = \"python\"\n",
    "x = 0\n",
    "\n",
    "for i in my_string:\n",
    "    x = x + 1\n",
    "    print(my_string[0:x])\n",
    "\n",
    "for i in my_string:\n",
    "    x = x - 1\n",
    "    print(my_string[0:x])"
   ]
  },
  {
   "cell_type": "code",
   "execution_count": null,
   "metadata": {
    "id": "llrx3Ct5Q0To"
   },
   "outputs": [],
   "source": []
  }
 ],
 "metadata": {
  "colab": {
   "name": "Loop_Excersise_Solution.ipynb",
   "provenance": []
  },
  "kernelspec": {
   "display_name": "Python 3",
   "language": "python",
   "name": "python3"
  },
  "language_info": {
   "codemirror_mode": {
    "name": "ipython",
    "version": 3
   },
   "file_extension": ".py",
   "mimetype": "text/x-python",
   "name": "python",
   "nbconvert_exporter": "python",
   "pygments_lexer": "ipython3",
   "version": "3.8.8"
  }
 },
 "nbformat": 4,
 "nbformat_minor": 1
}
