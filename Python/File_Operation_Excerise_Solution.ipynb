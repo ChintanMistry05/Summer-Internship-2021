{
 "cells": [
  {
   "cell_type": "markdown",
   "metadata": {
    "id": "yH8Z7BRUTFLm"
   },
   "source": [
    "#### 1.  Create a file program. Find odd or even number. Odd number are Add to odd.txt file.And even number are stored an even.txt file."
   ]
  },
  {
   "cell_type": "code",
   "execution_count": null,
   "metadata": {
    "id": "q4HkaOoVTFLq",
    "outputId": "ad520ee8-9e3b-44e0-d0f9-f66d71e66789"
   },
   "outputs": [
    {
     "name": "stdout",
     "output_type": "stream",
     "text": [
      "Enter the Number:3\n",
      "3: is Odd Number\n"
     ]
    }
   ],
   "source": [
    "f1=open(\"odd.txt\",\"w\")\n",
    "f2=open(\"even.txt\",\"w\")\n",
    "n=eval(input(\"Enter the Number:\"))\n",
    "if n%2==0:\n",
    "    f2.write(\"{}: is Even Number\".format(n))\n",
    "    print(\"{}: is Even Number\".format(n))\n",
    "else:\n",
    "    f1.write(\"{} is Odd Number\".format(n))\n",
    "    print(\"{}: is Odd Number\".format(n))\n",
    "f1.close()\n",
    "f2.close()"
   ]
  },
  {
   "cell_type": "markdown",
   "metadata": {
    "id": "MT0VTzwvTFLr"
   },
   "source": [
    "#### 2. Read the names of student from student.txt. Read Two subject marks Marks.txt , And create file named results.txt. in this file store name and total marks of student.\n"
   ]
  },
  {
   "cell_type": "code",
   "execution_count": null,
   "metadata": {
    "executionInfo": {
     "elapsed": 9,
     "status": "ok",
     "timestamp": 1623049681703,
     "user": {
      "displayName": "bela rathod",
      "photoUrl": "",
      "userId": "00420564244357723073"
     },
     "user_tz": -330
    },
    "id": "5Ja7ziZBTFLs"
   },
   "outputs": [],
   "source": []
  },
  {
   "cell_type": "markdown",
   "metadata": {
    "id": "ze7FII7STFLs"
   },
   "source": [
    "#### 3. Write a program that Create a file and write below content and then close it<br>\n",
    "Line 1: This is text file and Line One<br>\n",
    "Line 2: This is text file and Line two<br>\n",
    "Line 3: This is text file and Line three<br>\n",
    "Line 4: This is text file and Line four<br>\n",
    "Line 5: This is text file and Line five"
   ]
  },
  {
   "cell_type": "code",
   "execution_count": null,
   "metadata": {
    "id": "dSouUEWOTFLt"
   },
   "outputs": [],
   "source": [
    "file = open(\"line no.txt\",\"w\")\n",
    "for num in range(1,6):\n",
    "    n = [num]\n",
    "    n1 = [\"Line\"+str(n)+\": This is text file and Line\"+str(num)]\n",
    "    #print(n1)\n",
    "    file.writelines(n1)\n",
    "file.close()"
   ]
  },
  {
   "cell_type": "markdown",
   "metadata": {
    "id": "ls_n_qQHTFLt"
   },
   "source": [
    "#### 4. Read any text file and print first 5 number of words.\n"
   ]
  },
  {
   "cell_type": "code",
   "execution_count": null,
   "metadata": {
    "id": "OjrmfIISTFLu",
    "outputId": "1b57ef79-31f9-459a-d528-3a69bfef514d"
   },
   "outputs": [
    {
     "name": "stdout",
     "output_type": "stream",
     "text": [
      "Line[1]:\t1\n",
      "This\t5\n",
      "is\t5\n",
      "text\t5\n",
      "file\t5\n",
      "and\t5\n",
      "Line1Line[2]:\t1\n",
      "Line2Line[3]:\t1\n",
      "Line3Line[4]:\t1\n",
      "Line4Line[5]:\t1\n",
      "Line5\t1\n"
     ]
    }
   ],
   "source": [
    "from collections import Counter\n",
    "\n",
    "file = open(\"line no.txt\",\"r\")\n",
    "\n",
    "countword = Counter(file.read().split())\n",
    "\n",
    "for word in countword.items():\n",
    "    print(\"{}\\t{}\".format(*word))"
   ]
  },
  {
   "cell_type": "markdown",
   "metadata": {
    "id": "WtYU8Vb3TFLv"
   },
   "source": [
    "#### 5. save into file for a triangle with for a given number of lines\n",
    "<pre>\n",
    "    \n",
    " * * * * *\n",
    "  * * * *\n",
    "   * * *\n",
    "    * *\n",
    "     *\n",
    "     \n",
    "     *\n",
    "    * *\n",
    "   * * *\n",
    "  * * * *\n",
    " * * * * *\n",
    "</pre>"
   ]
  },
  {
   "cell_type": "code",
   "execution_count": null,
   "metadata": {
    "id": "R5Rx4RTPTFLw",
    "outputId": "f2c419b6-322c-4550-b315-b426b37a90f1"
   },
   "outputs": [
    {
     "name": "stdout",
     "output_type": "stream",
     "text": [
      "Enter pyramid length: 5\n"
     ]
    }
   ],
   "source": [
    "try:\n",
    "    f1 = open(\"Pyramid.txt\",'x')\n",
    "except:\n",
    "    f1 =open(\"Pyramid.txt\",'w')\n",
    "user = int(input(\"Enter pyramid length: \"))\n",
    "for rows in range(0,user):\n",
    "        for space in range(0,rows):\n",
    "                f1.write(str(\" \"))\n",
    "        for display in range(0,user-rows):\n",
    "                f1.write(str(\" *\"))\n",
    "        f1.write(\"\\n\")\n",
    "for rows in range(0,user+1):\n",
    "        for space in range(0,user-rows):\n",
    "                f1.write(str(\" \"))\n",
    "        for display in range(0,rows):\n",
    "                f1.write(str(\" *\"))\n",
    "        f1.write(\"\\n\")\n",
    "f1.close()"
   ]
  },
  {
   "cell_type": "markdown",
   "metadata": {
    "id": "GAZ8g2vcTFLx"
   },
   "source": [
    "##### 6. save into file for a triangle with for a given number of lines\n",
    "<pre>\n",
    "    *\n",
    "   * *\n",
    "  * * *\n",
    " * * * *\n",
    "* * * * *\n",
    "</pre>"
   ]
  },
  {
   "cell_type": "code",
   "execution_count": 2,
   "metadata": {
    "id": "bowIgJcXTFLx",
    "outputId": "1773ed17-15c1-4ef1-e346-bea848bccd36"
   },
   "outputs": [
    {
     "name": "stdout",
     "output_type": "stream",
     "text": [
      "Enter pyramid length: 5\n"
     ]
    }
   ],
   "source": [
    "try:\n",
    "    f1 = open(\"Pyramid_1.txt\",'x')\n",
    "except:\n",
    "    f1 =open(\"Pyramid_1.txt\",'w')\n",
    "user = int(input(\"Enter pyramid length: \"))\n",
    "for rows in range(0,user+1):\n",
    "        for space in range(0,user-rows):\n",
    "                f1.write(str(\" \"))\n",
    "        for display in range(0,rows):\n",
    "                f1.write(str(\" *\"))\n",
    "        f1.write(\"\\n\")\n",
    "f1.close()"
   ]
  },
  {
   "cell_type": "markdown",
   "metadata": {
    "id": "JUJJKO4MTFLy"
   },
   "source": [
    "#### 7.  Create a program write the data in Json file and after read data into the file"
   ]
  },
  {
   "cell_type": "code",
   "execution_count": null,
   "metadata": {
    "id": "I9QKCU--TFLy",
    "outputId": "c2fd55e4-a117-46d5-bfd5-a21dddbe1f06"
   },
   "outputs": [
    {
     "name": "stdout",
     "output_type": "stream",
     "text": [
      "Enter the Name:x\n",
      "Enter the Marks:67\n",
      "x 67\n"
     ]
    }
   ],
   "source": [
    "import json\n",
    "\n",
    "f1=open(\"Data.json\",\"a\")\n",
    "name=input(\"Enter the Name:\")\n",
    "Marks=eval(input(\"Enter the Marks:\"))\n",
    "stu=dict()\n",
    "stu[name]=Marks\n",
    "json.dump(stu,f1,indent=4)\n",
    "f1.close()\n",
    "\n",
    "f1=open(\"Data.json\",\"r\")\n",
    "data=json.load(f1)\n",
    "for n,m in data.items():\n",
    "    print(n,m)\n",
    "f1.close()"
   ]
  },
  {
   "cell_type": "markdown",
   "metadata": {
    "id": "N-YV9E6UTFLy"
   },
   "source": [
    "#### 8. Python to store alphabet capital and small letters in a file using a loop new files should be a create alpha.txt"
   ]
  },
  {
   "cell_type": "code",
   "execution_count": null,
   "metadata": {
    "id": "bEoN_PeETFLz",
    "outputId": "f2abfc13-bab8-4acc-f5ac-5bd8859073dd"
   },
   "outputs": [
    {
     "name": "stdout",
     "output_type": "stream",
     "text": [
      "File is created \n"
     ]
    }
   ],
   "source": [
    "y = []\n",
    "try:\n",
    "    file1 = open(\"alpha.txt\",'x')\n",
    "    print(\"File is created \")\n",
    "except:\n",
    "    file1=open(\"alpha.txt\",'r+')\n",
    "    print(\"File opened in R+  mode\")\n",
    "    file1.truncate(0)\n",
    "\n",
    "for x in range(65,91):\n",
    "      file1.write(chr(x)    +\" \")\n",
    "\n",
    "file1.write('\\n')\n",
    "\n",
    "for x1 in range(97,123):\n",
    "      file1.write(str(chr(x1))+\" \")\n",
    "\n",
    "if (file1.mode == 'r' or file1.mode == 'r+'):\n",
    "    file1.seek(0)\n",
    "    print(file1.read())\n",
    "\n",
    "file1.close()"
   ]
  },
  {
   "cell_type": "markdown",
   "metadata": {
    "id": "H5qkdNzZTFLz"
   },
   "source": [
    "#### 9.  Create Email Validaion ProgramUsing File.\n",
    "\n",
    "   -read all email addresses from a text file <br/>\n",
    "   -and check for validity<br/>\n",
    "   -and create output file with a only valid email addresses and<br/>\n",
    "   -create other text file with invalid email addresses and also<br/>\n",
    "   -suggest why it is invalid<br/>\n",
    "   -check for more than one @ sign<br/>\n",
    "   -in whole email - any non-allowed character ($, #,)\n"
   ]
  },
  {
   "cell_type": "code",
   "execution_count": null,
   "metadata": {
    "id": "t5aMhCu5TFL0",
    "outputId": "a8a7ca13-9847-48cb-e776-ca497156dc82"
   },
   "outputs": [
    {
     "name": "stdout",
     "output_type": "stream",
     "text": [
      "aaa@gmail.com\n",
      "\n",
      "xyz@gmail.com\n",
      "\n",
      "aa.gmail.com\n",
      "\n",
      "hello@gmal.com\n"
     ]
    }
   ],
   "source": [
    "import re\n",
    "emails = open(\"input.txt\", \"r\")\n",
    "f1 = emails.readlines()\n",
    "\n",
    "valid = open(\"validmail.txt\", \"w\")\n",
    "invalid = open(\"invalidmail.txt\",\"w\")\n",
    "\n",
    "invalid.write(\"Invalid Email addresses\\n==========================\\n\")\n",
    "valid.write(\"Valid Email addresses\\n==============================\\n\")\n",
    " \n",
    "# create list\n",
    "match_list = [ ]   \n",
    "nonmatch_list = [ ]   \n",
    "\n",
    "for email in f1:\n",
    "    mail = re.match('^[_A-Za-z0-9-]+(\\.[_A-Za-z0-9-]+)*@[A-Za-z0-9-]+(\\.[A-Za-z0-9-]+)*(\\.[A-Za-z]{2,4})$',email)  \n",
    "    if mail == None:\n",
    "        print(email)\n",
    "        invalid.write(email)\n",
    "    else:\n",
    "        print(email)\n",
    "        valid.write(email)\n",
    "\n",
    "valid.close()\n",
    "invalid.close()"
   ]
  },
  {
   "cell_type": "markdown",
   "metadata": {
    "id": "2cMXBuDNTFL0"
   },
   "source": [
    "#### 10 Read the names of student from student.txt. Read Two subject marks Marks.txt and create file named results.txt. in this file store name and total marks of student."
   ]
  },
  {
   "cell_type": "code",
   "execution_count": 1,
   "metadata": {},
   "outputs": [
    {
     "name": "stdout",
     "output_type": "stream",
     "text": [
      "Kishan ['23', '45'] 68\n",
      "Kamal ['45', '67'] 112\n"
     ]
    }
   ],
   "source": [
    "with open(\"student.txt\",\"r\") as f1, open(\"marks.txt\",\"r\") as f2,open(\"result.txt\",\"w\") as f3:\n",
    "    for d1,d2 in zip(f1,f2):\n",
    "        d1=d1.strip()\n",
    "        d2=d2.strip()\n",
    "        d2=d2.split(\" \")\n",
    "        s=0\n",
    "        for marks in d2:\n",
    "            if marks.isdigit():\n",
    "                s=s+int(marks)\n",
    "        print(d1,d2,s)\n",
    "        f3.write(\"{} {} {}\\n\".format(d1,d2,s))\n",
    "f1.close()\n",
    "f2.close()\n",
    "            "
   ]
  },
  {
   "cell_type": "code",
   "execution_count": null,
   "metadata": {},
   "outputs": [],
   "source": []
  }
 ],
 "metadata": {
  "colab": {
   "name": "File_Operation_Excerise_Solution.ipynb",
   "provenance": []
  },
  "kernelspec": {
   "display_name": "Python 3",
   "language": "python",
   "name": "python3"
  },
  "language_info": {
   "codemirror_mode": {
    "name": "ipython",
    "version": 3
   },
   "file_extension": ".py",
   "mimetype": "text/x-python",
   "name": "python",
   "nbconvert_exporter": "python",
   "pygments_lexer": "ipython3",
   "version": "3.8.8"
  }
 },
 "nbformat": 4,
 "nbformat_minor": 1
}
