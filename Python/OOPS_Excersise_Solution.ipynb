{
 "cells": [
  {
   "cell_type": "markdown",
   "metadata": {},
   "source": [
    "#### Q:1\n",
    "<pre>\n",
    "Class Name: Person\n",
    "DataMember /Variable: Id, Fname, Lname, Gender, Age\n",
    "Read all Data from User and Print all the data\n",
    "</pre>"
   ]
  },
  {
   "cell_type": "code",
   "execution_count": 1,
   "metadata": {},
   "outputs": [
    {
     "name": "stdout",
     "output_type": "stream",
     "text": [
      "Enter the Id of Person:1\n",
      "Enter the First Name of Person:a\n",
      "Enter the Last Name of Person:b\n",
      "Enter Your Gender:m\n",
      "Enter your Age:32\n",
      "*****Person Information*******\n",
      "Id: 1\n",
      "First Name: a\n",
      "Last Name: b\n",
      "Gender: m\n",
      "Age: 32\n"
     ]
    }
   ],
   "source": [
    "class Person:\n",
    "    def inputdata(self):\n",
    "        self.n=eval(input(\"Enter the Id of Person:\"))\n",
    "        self.Fname=input(\"Enter the First Name of Person:\")\n",
    "        self.Lname=input(\"Enter the Last Name of Person:\")\n",
    "        self.Gender=input(\"Enter Your Gender:\")\n",
    "        self.Age=eval(input(\"Enter your Age:\"))\n",
    "    def displaydata(self):\n",
    "        print(\"*****Person Information*******\")\n",
    "        print(\"Id:\",self.n)\n",
    "        print(\"First Name:\",self.Fname)\n",
    "        print(\"Last Name:\",self.Lname)\n",
    "        print(\"Gender:\",self.Gender)\n",
    "        print(\"Age:\",self.Age)\n",
    "p=Person()\n",
    "p.inputdata()\n",
    "p.displaydata()"
   ]
  },
  {
   "cell_type": "markdown",
   "metadata": {},
   "source": [
    "#### Q:2\n",
    "<pre>\n",
    "Class Name: Student\n",
    "DataMember / Variable: Rollno, Name, Course Name, Fees\n",
    "Read all Data from User and Print all the data.\n",
    "</pre>"
   ]
  },
  {
   "cell_type": "code",
   "execution_count": 3,
   "metadata": {},
   "outputs": [
    {
     "name": "stdout",
     "output_type": "stream",
     "text": [
      "Enter the RollNumber:1\n",
      "Enter Your Name:a\n",
      "Enter Your Course Name:p\n",
      "Enter Your Fees: 3400\n",
      "******************Student Infromation******************\n",
      "RollNo: 1\n",
      "Name: a\n",
      "Course Name: p\n",
      "Fees: 3400\n"
     ]
    }
   ],
   "source": [
    "class student:\n",
    "    def inputdata(self):\n",
    "        self.Rollno=eval(input(\"Enter the RollNumber:\"))\n",
    "        self.Name=input(\"Enter Your Name:\")\n",
    "        self.CName=input(\"Enter Your Course Name:\")\n",
    "        self.Fees=eval(input(\"Enter Your Fees: \"))\n",
    "    def displaydata(self):\n",
    "        print(\"******************Student Infromation******************\")\n",
    "        print(\"RollNo:\",self.Rollno)\n",
    "        print(\"Name:\",self.Name)\n",
    "        print(\"Course Name:\",self.CName)\n",
    "        print(\"Fees:\",self.Fees)\n",
    "s=student()\n",
    "s.inputdata()\n",
    "s.displaydata()"
   ]
  },
  {
   "cell_type": "markdown",
   "metadata": {},
   "source": [
    "#### Q:3\n",
    "Write a Python class named Circle constructed by a radius and two methods which will compute the area and the perimeter of a circle."
   ]
  },
  {
   "cell_type": "code",
   "execution_count": 8,
   "metadata": {},
   "outputs": [
    {
     "name": "stdout",
     "output_type": "stream",
     "text": [
      "Enter the Radius:4\n",
      "Area of Circle: 50.26548245743669\n",
      "Perimeter of Circle: 25.132741228718345\n"
     ]
    }
   ],
   "source": [
    "import math\n",
    "class circle:\n",
    "    def __init__(self):\n",
    "        self.r=eval(input(\"Enter the Radius:\"))\n",
    "    def Carea(self):\n",
    "        area=math.pi*self.r**2\n",
    "        print(\"Area of Circle:\",area)\n",
    "    def CPerimeter(self):\n",
    "        peri=2*math.pi*self.r\n",
    "        print(\"Perimeter of Circle:\",peri)\n",
    "c=circle()\n",
    "c.Carea()\n",
    "c.CPerimeter()"
   ]
  },
  {
   "cell_type": "markdown",
   "metadata": {},
   "source": [
    "#### Q:4\n",
    "Write a Python class named Rectangle constructed by a length and width and a method which will compute the area of a rectangle."
   ]
  },
  {
   "cell_type": "code",
   "execution_count": 10,
   "metadata": {},
   "outputs": [
    {
     "name": "stdout",
     "output_type": "stream",
     "text": [
      "Enter the Length:3\n",
      "enter the width:4\n",
      "Rectangle Area: 12\n"
     ]
    }
   ],
   "source": [
    "class Rect:\n",
    "    def __init__(self):\n",
    "        self.l=eval(input(\"Enter the Length:\"))\n",
    "        self.w=eval(input(\"enter the width:\"))\n",
    "    def Rarea(self):\n",
    "        area=self.l*self.w\n",
    "        print(\"Rectangle Area:\",area)\n",
    "r=Rect()\n",
    "r.Rarea()"
   ]
  },
  {
   "cell_type": "markdown",
   "metadata": {},
   "source": [
    "#### Q:5 Create program using single level inheritance\n",
    "<pre>\n",
    "Base Class: Employee\n",
    "DataMember: EmpId, Name, Salary\n",
    "Derived Class: Full-Time Emp\n",
    "Data Member: DA, HRA, Total Salary\n",
    "Total salary =DA+HRA+Salary\n",
    "</pre>"
   ]
  },
  {
   "cell_type": "code",
   "execution_count": null,
   "metadata": {},
   "outputs": [
    {
     "name": "stdout",
     "output_type": "stream",
     "text": [
      "Enter the Employee ID:1\n",
      "Enter the Employee Name:a\n"
     ]
    }
   ],
   "source": [
    "class Employee:\n",
    "    def inputdata(self):\n",
    "        self.EmpId=eval(input(\"Enter the Employee ID:\"))\n",
    "        self.Name=input(\"Enter the Employee Name:\")\n",
    "        self.Salary=eval(input(\"Enter Employee Salary:\"))\n",
    "    def display(self):\n",
    "        print(\"Employee ID:\",self.EmpId)\n",
    "        print(\"Employee Name:\",self.Name)\n",
    "        print(\"Employee Salary:\",self.Salary)\n",
    "class FullTime_Emp(Employee):\n",
    "    \n",
    "    def enterdata(self):\n",
    "        self.DA=eval(input(\"Enter Your daily Allownce:\"))\n",
    "        self.HRA=eval(input(\"Enter your Human Resource Allownce:\"))\n",
    "    def Displaydata(self):\n",
    "        \n",
    "        print(\"Daily Allownce:\",self.DA)\n",
    "        print(\"Human Resource Allownce:\",self.HRA)\n",
    "        Total_sal=self.Salary+self.DA+self.HRA\n",
    "        print(\"Total Salary:\",Total_sal)\n",
    "f=FullTime_Emp()\n",
    "f.inputdata()\n",
    "f.display()\n",
    "f.enterdata()\n",
    "f.Displaydata()\n"
   ]
  },
  {
   "cell_type": "code",
   "execution_count": null,
   "metadata": {},
   "outputs": [],
   "source": []
  }
 ],
 "metadata": {
  "kernelspec": {
   "display_name": "Python 3",
   "language": "python",
   "name": "python3"
  },
  "language_info": {
   "codemirror_mode": {
    "name": "ipython",
    "version": 3
   },
   "file_extension": ".py",
   "mimetype": "text/x-python",
   "name": "python",
   "nbconvert_exporter": "python",
   "pygments_lexer": "ipython3",
   "version": "3.7.4"
  }
 },
 "nbformat": 4,
 "nbformat_minor": 2
}
