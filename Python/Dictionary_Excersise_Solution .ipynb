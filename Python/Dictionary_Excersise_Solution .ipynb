{
 "cells": [
  {
   "cell_type": "markdown",
   "metadata": {
    "id": "avsPQUIV7qWh"
   },
   "source": [
    "### Basic Question"
   ]
  },
  {
   "cell_type": "markdown",
   "metadata": {
    "id": "M61ip9b_7qWl"
   },
   "source": [
    "#### 1. Combine All Dictionary to one Dictionary<br>\n",
    "D1= {1:10, 2:20, 3:30}<br>\n",
    "D2= {4:40, 5:50, 6:60}<br>\n",
    "D3= {7:70, 8:80, 9:90}<br>\n",
    "**Output: d1={1:10,2:20,3:30,4:40,5:50,6:60,7:70,8:80,9:90}**"
   ]
  },
  {
   "cell_type": "code",
   "execution_count": null,
   "metadata": {
    "id": "tSN22cx-7qWn",
    "outputId": "50e78344-3781-48d9-d359-81924b6bc9e7"
   },
   "outputs": [
    {
     "name": "stdout",
     "output_type": "stream",
     "text": [
      "{1: 10, 2: 20, 3: 30}\n",
      "{4: 40, 5: 50, 6: 60}\n",
      "{7: 70, 8: 80, 9: 90}\n",
      "updated Dictionary\n",
      "{1: 10, 2: 20, 3: 30, 4: 40, 5: 50, 6: 60, 7: 70, 8: 80, 9: 90}\n"
     ]
    }
   ],
   "source": [
    "D1= {1:10, 2:20, 3:30}\n",
    "D2= {4:40, 5:50, 6:60}\n",
    "D3= {7:70, 8:80, 9:90}\n",
    "print(D1)\n",
    "print(D2)\n",
    "print(D3)\n",
    "print(\"updated Dictionary\")\n",
    "D1.update(D2)\n",
    "D1.update(D3)\n",
    "print(D1)"
   ]
  },
  {
   "cell_type": "markdown",
   "metadata": {
    "id": "3v5sTV-a7qWq"
   },
   "source": [
    "#### 2. Create following Dictionary Add another key and value to existing Dictionary.<br>\n",
    "Dic1= {1:10, 2:20, 3:30, 4:40, 5:50}<br>\n",
    "Output: dic1= {1:10, 2:20, 3:30, 4:40, 5:50, 6:60}"
   ]
  },
  {
   "cell_type": "code",
   "execution_count": null,
   "metadata": {
    "id": "GlTFZMbS7qWr",
    "outputId": "b4921a74-875e-4748-eb44-2a20699236e7"
   },
   "outputs": [
    {
     "name": "stdout",
     "output_type": "stream",
     "text": [
      "{1: 10, 2: 20, 3: 30, 4: 40, 5: 50}\n",
      "{1: 10, 2: 20, 3: 30, 4: 40, 5: 50, 6: 60}\n"
     ]
    }
   ],
   "source": [
    "Dic1= {1:10, 2:20, 3:30, 4:40, 5:50}\n",
    "print(Dic1)\n",
    "Dic1[6]=60\n",
    "print(Dic1)"
   ]
  },
  {
   "cell_type": "markdown",
   "metadata": {
    "id": "cq4Ww9Nu7qWs"
   },
   "source": [
    "#### 3.Create dictionary and display following output<br>\n",
    "d1={\"rollno\":1,”Name”:”ABC”,\"sem1\":[10,20,30],\"sem2\":[40,50,60],\"sem3\":[40,50,60]}<br>\n",
    "print Rollup, Name and all sem marks."
   ]
  },
  {
   "cell_type": "code",
   "execution_count": null,
   "metadata": {
    "id": "QrmvxR2R7qWt",
    "outputId": "6740bedb-b6c2-4c8d-b718-5718e0a76d29"
   },
   "outputs": [
    {
     "name": "stdout",
     "output_type": "stream",
     "text": [
      "rollno 1\n",
      "Name ABC\n",
      "sem1 [10, 20, 30]\n",
      "sem2 [40, 50, 60]\n",
      "sem3 [40, 50, 60]\n"
     ]
    }
   ],
   "source": [
    "d1={\"rollno\":1,\"Name\":\"ABC\",\"sem1\":[10,20,30],\"sem2\":[40,50,60],\"sem3\":[40,50,60]}\n",
    "for key,val in d1.items():\n",
    "    print(key,val)"
   ]
  },
  {
   "cell_type": "markdown",
   "metadata": {
    "id": "CaaytKPd7qWt"
   },
   "source": [
    "#### 4. Create an Empty dictionary After Add 1 to 10 value in that dictionary."
   ]
  },
  {
   "cell_type": "code",
   "execution_count": null,
   "metadata": {
    "id": "sWpTQR157qWu",
    "outputId": "d8fed97a-f93d-4849-df30-c30b32d774ef"
   },
   "outputs": [
    {
     "name": "stdout",
     "output_type": "stream",
     "text": [
      "{1: 1, 2: 2, 3: 3, 4: 4, 5: 5, 6: 6, 7: 7, 8: 8, 9: 9, 10: 10}\n"
     ]
    }
   ],
   "source": [
    "d1=dict()\n",
    "d2={1:1,2:2,3:3,4:4,5:5,6:6,7:7,8:8,9:9,10:10}\n",
    "d1.update(d2)\n",
    "print(d1)"
   ]
  },
  {
   "cell_type": "markdown",
   "metadata": {
    "id": "EjFSyrIR7qWu"
   },
   "source": [
    "#### 5. Create a dictionary print only keys and print only values."
   ]
  },
  {
   "cell_type": "code",
   "execution_count": null,
   "metadata": {
    "id": "AtHa_Oj_7qWv",
    "outputId": "249e64f7-6c79-4848-a935-b105a3760f5e"
   },
   "outputs": [
    {
     "name": "stdout",
     "output_type": "stream",
     "text": [
      "dict_keys(['mango', 'Grapes', 'kivi', 'orange', 'Banana', 'Apple'])\n",
      "dict_values([100, 30, 30, 10, 5, 20])\n"
     ]
    }
   ],
   "source": [
    "fruit={\"mango\":100,\"Grapes\":30,\"kivi\":30,\"orange\":10,\"Banana\":5,\"Apple\":20}\n",
    "print(fruit.keys())\n",
    "print(fruit.values())"
   ]
  },
  {
   "cell_type": "markdown",
   "metadata": {
    "id": "mabOJ0cX7qWv"
   },
   "source": [
    "#### 6. Create dictionary print following output <br>\n",
    "D1= {“no”:1,”Name”:”xyz”}<br>\n",
    "Output:<br>\n",
    "D1= {“no”:1,”name”:”xyz”,”course”:”python”,”Fees”, 10000}<br>"
   ]
  },
  {
   "cell_type": "code",
   "execution_count": null,
   "metadata": {
    "id": "YcbS4PhS7qWw",
    "outputId": "1a81868c-4dc9-46a6-bf6a-6ac607e5c12c"
   },
   "outputs": [
    {
     "name": "stdout",
     "output_type": "stream",
     "text": [
      "{'no': 1, 'Name': 'xyz', 'course': 'Python', 'Fees': 10000}\n"
     ]
    }
   ],
   "source": [
    "D1= {\"no\":1,\"Name\":\"xyz\"}\n",
    "D1[\"course\"]=\"Python\"\n",
    "D1[\"Fees\"]=10000\n",
    "print(D1)"
   ]
  },
  {
   "cell_type": "markdown",
   "metadata": {
    "id": "oKPshqJJ7qWw"
   },
   "source": [
    "#### 7. Create a dictionary and apply this method pop, popitem, del, clear."
   ]
  },
  {
   "cell_type": "code",
   "execution_count": null,
   "metadata": {
    "id": "ccmxQOlX7qWw",
    "outputId": "47948cb1-3abc-446d-cef0-3aa08c977622"
   },
   "outputs": [
    {
     "name": "stdout",
     "output_type": "stream",
     "text": [
      "{'mango': 100, 'Grapes': 30, 'kivi': 30, 'orange': 10, 'Banana': 5, 'Apple': 20}\n",
      "{'Grapes': 30, 'kivi': 30, 'orange': 10, 'Banana': 5, 'Apple': 20}\n",
      "{'Grapes': 30, 'kivi': 30, 'orange': 10, 'Banana': 5}\n",
      "{}\n"
     ]
    },
    {
     "ename": "NameError",
     "evalue": "name 'fruit' is not defined",
     "output_type": "error",
     "traceback": [
      "\u001b[1;31m---------------------------------------------------------------------------\u001b[0m",
      "\u001b[1;31mNameError\u001b[0m                                 Traceback (most recent call last)",
      "\u001b[1;32m<ipython-input-7-1d71038faf4a>\u001b[0m in \u001b[0;36m<module>\u001b[1;34m\u001b[0m\n\u001b[0;32m     12\u001b[0m \u001b[1;31m# Remove all element in the dictionary\u001b[0m\u001b[1;33m\u001b[0m\u001b[1;33m\u001b[0m\u001b[1;33m\u001b[0m\u001b[0m\n\u001b[0;32m     13\u001b[0m \u001b[1;32mdel\u001b[0m \u001b[0mfruit\u001b[0m\u001b[1;33m\u001b[0m\u001b[1;33m\u001b[0m\u001b[0m\n\u001b[1;32m---> 14\u001b[1;33m \u001b[0mprint\u001b[0m\u001b[1;33m(\u001b[0m\u001b[0mfruit\u001b[0m\u001b[1;33m)\u001b[0m\u001b[1;33m\u001b[0m\u001b[1;33m\u001b[0m\u001b[0m\n\u001b[0m",
      "\u001b[1;31mNameError\u001b[0m: name 'fruit' is not defined"
     ]
    }
   ],
   "source": [
    "fruit={\"mango\":100,\"Grapes\":30,\"kivi\":30,\"orange\":10,\"Banana\":5,\"Apple\":20}\n",
    "print(fruit)\n",
    "# Remove mango in the dictionary\n",
    "fruit.pop(\"mango\")\n",
    "print(fruit)\n",
    "# Remove last item in the dictionary\n",
    "fruit.popitem()\n",
    "print(fruit)\n",
    "# Remove all element in the dictionary\n",
    "fruit.clear()\n",
    "print(fruit)\n",
    "# Remove all element in the dictionary\n",
    "del fruit\n",
    "print(fruit)"
   ]
  },
  {
   "cell_type": "markdown",
   "metadata": {
    "id": "ne1XEQU77qWx"
   },
   "source": [
    "#### 8.  Create a dictionary calculate sum of all value in dictionary"
   ]
  },
  {
   "cell_type": "code",
   "execution_count": null,
   "metadata": {
    "id": "nZjV61Vo7qWx",
    "outputId": "85570c2b-9e46-457b-a3bd-a51c05bd437e"
   },
   "outputs": [
    {
     "name": "stdout",
     "output_type": "stream",
     "text": [
      "293\n"
     ]
    }
   ],
   "source": [
    "my_dict = {'data1':100,'data2':-54,'data3':247}\n",
    "print(sum(my_dict.values()))"
   ]
  },
  {
   "cell_type": "markdown",
   "metadata": {
    "id": "nfg1sZVi7qWx"
   },
   "source": [
    "#### 9. Create Dictionary find minimum and maximum value in the dictionary"
   ]
  },
  {
   "cell_type": "code",
   "execution_count": null,
   "metadata": {
    "id": "gaPRdS8L7qWy",
    "outputId": "37d4b49d-3d07-4557-aad7-1c7ba5d450e9"
   },
   "outputs": [
    {
     "name": "stdout",
     "output_type": "stream",
     "text": [
      "Maximum Value:  5874\n",
      "Minimum Value:  500\n"
     ]
    }
   ],
   "source": [
    "my_dict = {'x':500, 'y':5874, 'z': 560}\n",
    "\n",
    "key_max = max(my_dict.keys(), key=(lambda k: my_dict[k]))\n",
    "key_min = min(my_dict.keys(), key=(lambda k: my_dict[k]))\n",
    "\n",
    "print('Maximum Value: ',my_dict[key_max])\n",
    "print('Minimum Value: ',my_dict[key_min])\n"
   ]
  },
  {
   "cell_type": "markdown",
   "metadata": {
    "id": "kL4uDyDC7qWy"
   },
   "source": [
    "### Advance"
   ]
  },
  {
   "cell_type": "markdown",
   "metadata": {
    "id": "deKvax2N7qWy"
   },
   "source": [
    "#### 1. Write a program to generate a dictionary that contains (i, i*i) such that is an integral number between 1 and n (both included). And then the program should print the dictionary.<br>\n",
    "**Example:**<br>\n",
    "Suppose the following input is supplied to the program: 8 <br>\n",
    "Then, the output should be:<br>\n",
    "{1: 1, 2: 4, 3: 9, 4: 16, 5: 25, 6: 36, 7: 49, 8: 64}<br>"
   ]
  },
  {
   "cell_type": "code",
   "execution_count": null,
   "metadata": {
    "id": "vEcgqs9e7qWz",
    "outputId": "42548f70-faec-479d-db24-e20e7eddccf8"
   },
   "outputs": [
    {
     "data": {
      "text/plain": [
       "{1: 1, 2: 4, 3: 9, 4: 16, 5: 25, 6: 36, 7: 49, 8: 64, 9: 81, 10: 100}"
      ]
     },
     "execution_count": 45,
     "metadata": {
      "tags": []
     },
     "output_type": "execute_result"
    }
   ],
   "source": [
    "def squares(n):\n",
    "\tans = {}\n",
    "\tfor i in range(1, n + 1):\n",
    "\t\tans[i] = i * i\n",
    "\treturn ans\n",
    "squares(10)"
   ]
  },
  {
   "cell_type": "code",
   "execution_count": null,
   "metadata": {
    "id": "6-80T7st7qWz",
    "outputId": "bc1d0d20-113d-44a6-cd69-21eaef5d7dc8"
   },
   "outputs": [
    {
     "name": "stdout",
     "output_type": "stream",
     "text": [
      "Enter a number:10\n",
      "{1: 1, 2: 4, 3: 9, 4: 16, 5: 25, 6: 36, 7: 49, 8: 64, 9: 81, 10: 100}\n"
     ]
    }
   ],
   "source": [
    "#or\n",
    "n=int(input(\"Enter a number:\"))\n",
    "d={x:x*x for x in range(1,n+1)}\n",
    "print(d)"
   ]
  },
  {
   "cell_type": "markdown",
   "metadata": {
    "id": "btU4T9r-7qW0"
   },
   "source": [
    "#### 2. Write a Python program to create a dictionary from a string.<br>\n",
    "Note: Track the count of the letters from the string.<br>\n",
    "Sample string: 'this is string'<br>\n",
    "**Output: {'t': 2, 'h': 1, 'i': 3, 's': 2, ' ': 2, 'S': 1, 'r': 1, 'n': 1, 'g': 1}**"
   ]
  },
  {
   "cell_type": "code",
   "execution_count": null,
   "metadata": {
    "id": "QDTBEgX17qW1",
    "outputId": "c35e7f86-319c-49b3-e381-f82bef987776"
   },
   "outputs": [
    {
     "name": "stdout",
     "output_type": "stream",
     "text": [
      "{'t': 2, 'h': 1, 'i': 3, 's': 2, ' ': 2, 'S': 1, 'r': 1, 'n': 1, 'g': 1}\n"
     ]
    }
   ],
   "source": [
    "str1 = 'this is String' \n",
    "my_dict = {}\n",
    "for letter in str1:\n",
    "    my_dict[letter] = my_dict.get(letter, 0) + 1\n",
    "print(my_dict)"
   ]
  },
  {
   "cell_type": "code",
   "execution_count": null,
   "metadata": {
    "id": "wdnutiFz7qW2"
   },
   "outputs": [],
   "source": []
  }
 ],
 "metadata": {
  "colab": {
   "name": "Dictionary_Excersise_Solution .ipynb",
   "provenance": []
  },
  "kernelspec": {
   "display_name": "Python 3",
   "language": "python",
   "name": "python3"
  },
  "language_info": {
   "codemirror_mode": {
    "name": "ipython",
    "version": 3
   },
   "file_extension": ".py",
   "mimetype": "text/x-python",
   "name": "python",
   "nbconvert_exporter": "python",
   "pygments_lexer": "ipython3",
   "version": "3.8.8"
  }
 },
 "nbformat": 4,
 "nbformat_minor": 1
}
