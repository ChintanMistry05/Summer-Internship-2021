{
 "cells": [
  {
   "cell_type": "markdown",
   "metadata": {},
   "source": [
    "#### 1.Enter the number by the user and find that number is odd or even."
   ]
  },
  {
   "cell_type": "code",
   "execution_count": 1,
   "metadata": {},
   "outputs": [
    {
     "name": "stdout",
     "output_type": "stream",
     "text": [
      "Enter the value:2\n",
      "2 is Even values\n"
     ]
    }
   ],
   "source": [
    "n=eval(input(\"Enter the value:\"))\n",
    "if n%2==0:\n",
    "    print(\"{} is Even values\".format(n))\n",
    "else:\n",
    "    print(\"{} is Odd values\".format(n))"
   ]
  },
  {
   "cell_type": "markdown",
   "metadata": {},
   "source": [
    "#### 2. Enter the student marks:<br>\n",
    " if marks >=70 grade are 'A'<br>\n",
    " marks between 60 and 70 grades are 'B'<br>\n",
    " marks between 50 and 60 grades are 'C'<br>\n",
    " marks between 40 and 50 grades are 'D'<br>\n",
    " otherwise grade is 'E'<br>\n"
   ]
  },
  {
   "cell_type": "code",
   "execution_count": 2,
   "metadata": {},
   "outputs": [
    {
     "name": "stdout",
     "output_type": "stream",
     "text": [
      "Enter the Marks :34\n",
      "your Grade is E\n"
     ]
    }
   ],
   "source": [
    "marks=eval(input(\"Enter the Marks :\"))\n",
    "if marks>=70 :\n",
    "    print(\"your Grade is 'A' \")\n",
    "elif marks<=70 and marks>=60:\n",
    "     print(\"your Grade is 'B' \")\n",
    "elif marks>=60 and marks>=50:\n",
    "     print(\"your Grade is 'c' \")\n",
    "elif marks<=50 and marks>=40:\n",
    "     print(\"your Grade is 'D' \")\n",
    "else:\n",
    "    print(\"your Grade is E\")"
   ]
  },
  {
   "cell_type": "markdown",
   "metadata": {},
   "source": [
    "#### 3. Enter the Two values from the user find max or min value"
   ]
  },
  {
   "cell_type": "code",
   "execution_count": 3,
   "metadata": {},
   "outputs": [
    {
     "name": "stdout",
     "output_type": "stream",
     "text": [
      "Enter the value:45\n",
      "Enter the value:56\n",
      "Maximum value is :56:\n"
     ]
    }
   ],
   "source": [
    "n=eval(input(\"Enter the value:\"))\n",
    "m=eval(input(\"Enter the value:\"))\n",
    "if n>m:\n",
    "    print(\"Maximum Value is:{}:\".format(n))\n",
    "else:\n",
    "    print(\"Maximum value is :{}:\".format(m))"
   ]
  },
  {
   "cell_type": "markdown",
   "metadata": {},
   "source": [
    "#### 4.  Enter the three values from the user find max or min value.\n"
   ]
  },
  {
   "cell_type": "code",
   "execution_count": 4,
   "metadata": {},
   "outputs": [
    {
     "name": "stdout",
     "output_type": "stream",
     "text": [
      "Enter the value:56\n",
      "Enter the value:67\n",
      "Enter the value:78\n",
      "Maximum Value is:78\n"
     ]
    }
   ],
   "source": [
    "n=eval(input(\"Enter the value:\"))\n",
    "m=eval(input(\"Enter the value:\"))\n",
    "o=eval(input(\"Enter the value:\"))\n",
    "if n>m and n>o:\n",
    "      print(\"Maximum Value is:{}:\".format(n))\n",
    "elif m>n and m>o :\n",
    "      print(\"Maximum Value is:{}\".format(m))\n",
    "else:\n",
    "      print(\"Maximum Value is:{}\".format(o))    "
   ]
  },
  {
   "cell_type": "code",
   "execution_count": 5,
   "metadata": {},
   "outputs": [
    {
     "name": "stdout",
     "output_type": "stream",
     "text": [
      "Enter the value:67\n",
      "Enter the value:78\n",
      "Enter the value:78\n",
      "Maximum Value is:78:\n"
     ]
    }
   ],
   "source": [
    "# OR\n",
    "n=eval(input(\"Enter the value:\"))\n",
    "m=eval(input(\"Enter the value:\"))\n",
    "o=eval(input(\"Enter the value:\"))\n",
    "if n>m:\n",
    "    if n>o:\n",
    "        print(\"Maximum Value is:{}:\".format(n))\n",
    "    else:\n",
    "        print(\"Maximum Value is:{}:\".format(o))\n",
    "else:\n",
    "    if m>o:\n",
    "        print(\"Maximum Value is:{}:\".format(m))\n",
    "    else:\n",
    "        print(\"Maximum Value is:{}:\".format(o))\n",
    "        "
   ]
  },
  {
   "cell_type": "markdown",
   "metadata": {},
   "source": [
    "#### 5. Enter the character by the user to find vowel or consonant."
   ]
  },
  {
   "cell_type": "code",
   "execution_count": 6,
   "metadata": {},
   "outputs": [
    {
     "name": "stdout",
     "output_type": "stream",
     "text": [
      "Enter any Character:67\n",
      "67 is consonenet\n"
     ]
    }
   ],
   "source": [
    "c=input(\"Enter any Character:\")\n",
    "if c==\"a\"or c==\"A\"or c==\"e\"or c==\"E\"or c==\"i\"or c==\"I\"or c==\"o\"or c==\"O\"or c==\"u\"or c==\"U\":\n",
    "    print(\"{} is Vowel\".format(c))\n",
    "else:\n",
    "    print(\"{} is consonenet\".format(c))"
   ]
  },
  {
   "cell_type": "markdown",
   "metadata": {},
   "source": [
    "#### 6.Enter the value from the user and find that value is divisible by 5 or not."
   ]
  },
  {
   "cell_type": "code",
   "execution_count": 7,
   "metadata": {},
   "outputs": [
    {
     "name": "stdout",
     "output_type": "stream",
     "text": [
      "Enter the value:67\n",
      "The Value is not divisable by 5\n"
     ]
    }
   ],
   "source": [
    "n=eval(input(\"Enter the value:\"))\n",
    "if n%5==0:\n",
    "    print(\"The Value is Divisable by 5\")\n",
    "else:\n",
    "    print(\"The Value is not divisable by 5\")"
   ]
  },
  {
   "cell_type": "markdown",
   "metadata": {},
   "source": [
    "### Write the flowing code and print Output of Each Code."
   ]
  },
  {
   "cell_type": "code",
   "execution_count": 8,
   "metadata": {},
   "outputs": [
    {
     "ename": "IndentationError",
     "evalue": "expected an indented block (<ipython-input-8-bf02c824432a>, line 2)",
     "output_type": "error",
     "traceback": [
      "\u001b[1;36m  File \u001b[1;32m\"<ipython-input-8-bf02c824432a>\"\u001b[1;36m, line \u001b[1;32m2\u001b[0m\n\u001b[1;33m    if i == 5:\u001b[0m\n\u001b[1;37m     ^\u001b[0m\n\u001b[1;31mIndentationError\u001b[0m\u001b[1;31m:\u001b[0m expected an indented block\n"
     ]
    }
   ],
   "source": [
    "for i in range(10):\n",
    "if i == 5:\n",
    "     break\n",
    "else:\n",
    "    print(i)\n",
    "else:\n",
    "    print(\"Here\")\n",
    "        "
   ]
  },
  {
   "cell_type": "code",
   "execution_count": 9,
   "metadata": {},
   "outputs": [
    {
     "name": "stdout",
     "output_type": "stream",
     "text": [
      "m, y,  , n, a, m, e,  , i, s,  , x, "
     ]
    }
   ],
   "source": [
    "string = \"my name is x\"\n",
    "for i in string:\n",
    "     print (i, end=\", \")"
   ]
  },
  {
   "cell_type": "code",
   "execution_count": 10,
   "metadata": {},
   "outputs": [
    {
     "name": "stdout",
     "output_type": "stream",
     "text": [
      "a a a a a a "
     ]
    }
   ],
   "source": [
    "x = \"abcdef\"\n",
    "i = \"a\"\n",
    "while i in x:\n",
    "    x = x[:-1]\n",
    "    print(i, end = \" \")"
   ]
  },
  {
   "cell_type": "code",
   "execution_count": null,
   "metadata": {},
   "outputs": [
    {
     "name": "stdout",
     "output_type": "stream",
     "text": [
      "Are you 50years old?7\n",
      "Are you 50years old?90\n",
      "Are you 50years old?89\n",
      "Are you 50years old?99\n",
      "Are you 50years old?89\n",
      "Are you 50years old?23\n"
     ]
    }
   ],
   "source": [
    "down = 0\n",
    "up = 100\n",
    "for i in range(1,10):\n",
    "    guessed_age = int((up + down) / 2)\n",
    "    answer = input ('Are you ' + str (guessed_age) + \"years old?\")\n",
    "    if answer == 'correct':\n",
    "        print(\"Nice\")\n",
    "        break\n",
    "    elif answer == 'less':\n",
    "         up = guessed_age\n",
    "    elif answer == 'more':\n",
    "         down = guessed_age\n",
    "else:\n",
    "      print('wrong answer')\n"
   ]
  },
  {
   "cell_type": "code",
   "execution_count": null,
   "metadata": {},
   "outputs": [],
   "source": [
    "down = 0\n",
    "up = 100\n",
    "for i in range(1,10):\n",
    "    guessed_age = int((up + down) /2)\n",
    "    answer = input('Are you ' +str(guessed_age) + \" years old?\")\n",
    "     if answer == guessed_age:\n",
    "        print(\"Nice\")\n",
    "        break\n",
    "    elif answer == guessed_age:\n",
    "         up = guessed_age\n",
    "    elif answer == 'more':\n",
    "         down = guessed_age\n",
    "    else:\n",
    "         print('wrong answer')"
   ]
  },
  {
   "cell_type": "code",
   "execution_count": null,
   "metadata": {},
   "outputs": [],
   "source": [
    "import re\n",
    "p= input(\"Input your password\")\n",
    "x = True\n",
    "while x:\n",
    "    if (len(p)<6 or len(p)>12):\n",
    "        break\n",
    "    elif not re.search(\"[a-z]\",p):\n",
    "         break\n",
    "    elif not re.search(\"[0-9]\",p):\n",
    "         break\n",
    "    elif not re.search(\"[A-Z]\",p):\n",
    "         break\n",
    "    elif not re.search(\"[$#@]\",p):\n",
    "         break\n",
    "    elif re.search(\"\\s\",p):\n",
    "         break\n",
    "    else:\n",
    "         print(\"Valid Password\")\n",
    "    x=False\n",
    "         break\n",
    "    if x:\n",
    "         print(\"Not a Valid Password\")"
   ]
  },
  {
   "cell_type": "code",
   "execution_count": null,
   "metadata": {},
   "outputs": [],
   "source": []
  }
 ],
 "metadata": {
  "kernelspec": {
   "display_name": "Python 3",
   "language": "python",
   "name": "python3"
  },
  "language_info": {
   "codemirror_mode": {
    "name": "ipython",
    "version": 3
   },
   "file_extension": ".py",
   "mimetype": "text/x-python",
   "name": "python",
   "nbconvert_exporter": "python",
   "pygments_lexer": "ipython3",
   "version": "3.7.4"
  }
 },
 "nbformat": 4,
 "nbformat_minor": 2
}
